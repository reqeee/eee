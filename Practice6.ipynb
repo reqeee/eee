{
 "cells": [
  {
   "cell_type": "markdown",
   "id": "bb8ec5a5",
   "metadata": {},
   "source": [
    "Цель сегодняшнего занятия - разобраться с некоторыми продвинутыми инструментами языка Python. \n",
    "А именно:\n",
    "1. Itertools\n",
    "2. Множества и словари\n",
    "3. Генераторы\n",
    "4. ООП+\n"
   ]
  },
  {
   "cell_type": "markdown",
   "id": "890ea1e0",
   "metadata": {},
   "source": [
    "## 1. Itertools"
   ]
  },
  {
   "cell_type": "markdown",
   "id": "39a15be3",
   "metadata": {},
   "source": [
    "Itertools включает в себя набор эффективных по памяти инструментов, которые могут быть вам полезны. Все типы итераторов можно разделить на три класса:\n",
    "1. Бесконечные \n",
    "2. Конечные \n",
    "3. Комбинаторные"
   ]
  },
  {
   "cell_type": "markdown",
   "id": "91240621",
   "metadata": {},
   "source": [
    "Мы можем проходиться по итератору с помощью:\n",
    "1. функции «next»\n",
    "2. конвертации в список с помощью list()\n",
    "3. цикла for"
   ]
  },
  {
   "cell_type": "markdown",
   "id": "3242a047",
   "metadata": {},
   "source": [
    "### 1.1 Itertools(бесконечные)"
   ]
  },
  {
   "cell_type": "markdown",
   "id": "82d7c0e8",
   "metadata": {},
   "source": [
    "***1. itertools.count(start=0, step=1)***\n",
    "\n",
    "Создаёт итератор, возвращающий равномерно распределенные значения, начиная с number start."
   ]
  },
  {
   "cell_type": "code",
   "execution_count": 7,
   "id": "1d5bea3e",
   "metadata": {},
   "outputs": [
    {
     "name": "stdout",
     "output_type": "stream",
     "text": [
      "5\n",
      "7\n",
      "9\n"
     ]
    }
   ],
   "source": [
    "import itertools\n",
    "c=itertools.count(5, 2)\n",
    "print(next(c)) #выведем первый элемент\n",
    "print(next(c)) #выведем второй элемент\n",
    "print(next(c)) #выведем третий элемент\n",
    "# можем делать так до бесконечности"
   ]
  },
  {
   "cell_type": "markdown",
   "id": "0c61dc45",
   "metadata": {},
   "source": [
    "***2. itertools.cycle(iterable)***\n",
    "\n",
    "Создаёт итератор, возвращающий элементы из итерируемого объекта и сохраняющий копию каждого из них."
   ]
  },
  {
   "cell_type": "code",
   "execution_count": 9,
   "id": "54626743",
   "metadata": {},
   "outputs": [
    {
     "name": "stdout",
     "output_type": "stream",
     "text": [
      "1\n",
      "2\n",
      "3\n",
      "4\n",
      "1\n"
     ]
    }
   ],
   "source": [
    "l = [1, 2, 3, 4] # создаём список\n",
    "c=itertools.cycle(l)\n",
    "print(next(c)) #выведем первый элемент\n",
    "print(next(c)) #выведем второй элемент\n",
    "print(next(c)) #выведем третий элемент\n",
    "print(next(c)) #выведем четвёртый элемент\n",
    "print(next(c)) #выведем следующий элемент(в данном случае первый)\n",
    "# можем делать так до бесконечности"
   ]
  },
  {
   "cell_type": "markdown",
   "id": "563d2fdc",
   "metadata": {},
   "source": [
    "### 1.2 Itertools(конечные)"
   ]
  },
  {
   "cell_type": "markdown",
   "id": "addc4684",
   "metadata": {},
   "source": [
    "***1. itertools.accumulate(iterable[, func, *, initial=None])***\n",
    "\n",
    "Создаёт итератор, возвращающий накопленные суммы, или накопленные результаты других бинарных функций(указываются через необязательный аргумент func)."
   ]
  },
  {
   "cell_type": "code",
   "execution_count": 14,
   "id": "0f4c087b",
   "metadata": {
    "scrolled": true
   },
   "outputs": [
    {
     "name": "stdout",
     "output_type": "stream",
     "text": [
      "[1, 4, 9, 16, 25]\n"
     ]
    }
   ],
   "source": [
    "l = itertools.accumulate([1,3,5,7,9])\n",
    "print(list(l))"
   ]
  },
  {
   "cell_type": "markdown",
   "id": "6ffb9fd9",
   "metadata": {},
   "source": [
    "***2. itertools.chain(*iterables)***"
   ]
  },
  {
   "cell_type": "code",
   "execution_count": 15,
   "id": "9546aaae",
   "metadata": {},
   "outputs": [
    {
     "name": "stdout",
     "output_type": "stream",
     "text": [
      "['a', 'b', 1, 2, 3, 's', 'f', 'a', 'p', 'r']\n"
     ]
    }
   ],
   "source": [
    "l = itertools.chain([\"a\",\"b\"],[1,2,3],\"sfapr\")\n",
    "print(list(l))"
   ]
  },
  {
   "cell_type": "markdown",
   "id": "1ac93a99",
   "metadata": {},
   "source": [
    "Ещё больше о конечных итераторах и вообще об итераторах можно почитать здесь: https://docs.python.org/3/library/itertools.html"
   ]
  },
  {
   "cell_type": "markdown",
   "id": "f7f6b283",
   "metadata": {},
   "source": [
    "### 1.3 Itertools(комбинаторные)\n",
    "\n",
    "***1. itertools.product(*iterables, repeat=1)***"
   ]
  },
  {
   "cell_type": "markdown",
   "id": "a72f2e87",
   "metadata": {},
   "source": [
    "Прямое или декартово произведе́ние двух непустых множеств — множество, элементами\n",
    "которого являются все возможные упорядоченные пары элементов исходных множеств.\n",
    "\n",
    "***Itertools.product реализует декартово произведение.***"
   ]
  },
  {
   "cell_type": "code",
   "execution_count": 30,
   "id": "7e39c931",
   "metadata": {
    "scrolled": true
   },
   "outputs": [
    {
     "name": "stdout",
     "output_type": "stream",
     "text": [
      "[('X', 1), ('X', 2), ('Y', 1), ('Y', 2)]\n"
     ]
    }
   ],
   "source": [
    "l = itertools.product(\"XY\",[1,2])\n",
    "print(list(l))"
   ]
  },
  {
   "cell_type": "markdown",
   "id": "c5764340",
   "metadata": {},
   "source": [
    "### Задача 1\n",
    "\n",
    "Пусть даны два множества. l1 = [1, 2, 3, 4, 5] и l2 = [2, 3, 4]. Найдите декартово произведение :\n",
    "1. l1 и l2\n",
    "2. пересечения(l1 и l2) и l2\n",
    "3. объединения(l1 и l2) и l1\n",
    "\n",
    "Создайте свои два множества и найдите декартовы произведения(1-3) для них. "
   ]
  },
  {
   "cell_type": "code",
   "execution_count": null,
   "id": "4f54c99e-4d97-461e-a24a-82b4039e55e7",
   "metadata": {},
   "outputs": [],
   "source": []
  },
  {
   "cell_type": "markdown",
   "id": "e790a199",
   "metadata": {},
   "source": [
    "***2. itertools.permutations(iterable, r=None)***\n",
    "\n",
    "***Возвращает последовательные перестановки длины r в итерируемом объекте.***"
   ]
  },
  {
   "cell_type": "code",
   "execution_count": 32,
   "id": "64b1e2c3",
   "metadata": {
    "scrolled": true
   },
   "outputs": [
    {
     "name": "stdout",
     "output_type": "stream",
     "text": [
      "[('X', 'Y', 'x'), ('X', 'Y', 'y'), ('X', 'x', 'Y'), ('X', 'x', 'y'), ('X', 'y', 'Y'), ('X', 'y', 'x'), ('Y', 'X', 'x'), ('Y', 'X', 'y'), ('Y', 'x', 'X'), ('Y', 'x', 'y'), ('Y', 'y', 'X'), ('Y', 'y', 'x'), ('x', 'X', 'Y'), ('x', 'X', 'y'), ('x', 'Y', 'X'), ('x', 'Y', 'y'), ('x', 'y', 'X'), ('x', 'y', 'Y'), ('y', 'X', 'Y'), ('y', 'X', 'x'), ('y', 'Y', 'X'), ('y', 'Y', 'x'), ('y', 'x', 'X'), ('y', 'x', 'Y')]\n"
     ]
    }
   ],
   "source": [
    "l = itertools.permutations('XYxy', r = 3)\n",
    "print(list(l))"
   ]
  },
  {
   "cell_type": "markdown",
   "id": "ec537025",
   "metadata": {},
   "source": [
    "### Задача 2\n",
    "\n",
    "Решите, используя permutations. Сколько существует различных трёхзначных чисел, в записи которых первая цифра больше третьей?"
   ]
  },
  {
   "cell_type": "code",
   "execution_count": null,
   "id": "5a5fb762",
   "metadata": {},
   "outputs": [],
   "source": []
  },
  {
   "cell_type": "markdown",
   "id": "e758465c",
   "metadata": {},
   "source": [
    "***3. itertools.combinations(iterable, r)***\n",
    "\n",
    "Возвращает подпоследовательности длины r из элементов итерируемого объекта, подаваемого на вход. Посмотрите пример, представленный далее. Поймите различия между ***combinations и permutations***."
   ]
  },
  {
   "cell_type": "code",
   "execution_count": 39,
   "id": "08aebc0d",
   "metadata": {},
   "outputs": [
    {
     "name": "stdout",
     "output_type": "stream",
     "text": [
      "[('1', '2', 'X'), ('1', '2', 'Y'), ('1', 'X', 'Y'), ('2', 'X', 'Y')]\n"
     ]
    }
   ],
   "source": [
    "import itertools\n",
    "l = itertools.combinations('12XY', r = 3)\n",
    "print(list(l))"
   ]
  },
  {
   "cell_type": "markdown",
   "id": "34f569f2",
   "metadata": {},
   "source": [
    "### Задача 3\n",
    "\n",
    "Решите, используя combinations. В хоровом кружке занимаются 15 человек. Необходимо выбрать трёх певцов. Сколькими способами это можно сделать?\n"
   ]
  },
  {
   "cell_type": "code",
   "execution_count": null,
   "id": "0174c17f",
   "metadata": {},
   "outputs": [],
   "source": []
  },
  {
   "cell_type": "markdown",
   "id": "9eba4912",
   "metadata": {},
   "source": [
    "### Задача 4\n",
    "\n",
    "Решите, используя combinations. Сколько различных четырёхзначных чисел, делящихся на 3, можно \n",
    "составить из цифр 1, 2, 3, 4, если цифры в записи могут повторяться?\n"
   ]
  },
  {
   "cell_type": "code",
   "execution_count": null,
   "id": "7337943f",
   "metadata": {},
   "outputs": [],
   "source": []
  },
  {
   "cell_type": "markdown",
   "id": "97e815a1-d63d-48a6-8677-f7512740177b",
   "metadata": {},
   "source": [
    "# 2. Множество (`set`)\n",
    "Множество в языке Python — это структура данных, эквивалентная множествам в математике. Элементы могут быть различных типов. Порядок элементов не определён.\n",
    "\n",
    "Действия, которые можно выполнять с множеством:\n",
    "\n",
    "1. Добавлять и удалять элементы;\n",
    "2. Проверять принадлежность элемента множеству;\n",
    "3. Перебирать его элементы;\n",
    "4. Выполнять операции над множествами (объединение, пересечение, разность).\n",
    "\n",
    "Операция “проверить принадлежность элемента” выполняется в множестве намного быстрее, чем в списке.\n",
    "\n",
    "Элементами множества может быть любой неизменяемый тип данных: числа, строки, кортежи.\n",
    "\n",
    "Изменяемые типы данных не могут быть элементами множества, в частности, нельзя сделать элементом множества список (вместо этого используйте неизменяемый кортеж) или другое множество. Требование неизменяемости элементов множества накладывается особенностями представления множества в памяти компьютера."
   ]
  },
  {
   "cell_type": "markdown",
   "id": "a8ab00f5-d57b-4595-97c4-703162446a27",
   "metadata": {},
   "source": [
    "## Задание множеств\n",
    "Множество задается перечислением в фигурных скобках. Например:\n",
    "```python\n",
    "A = {1, 2, 3}\n",
    "```\n",
    "Исключением явлеется пустое множество:\n",
    "```python\n",
    "A = set()       # A -- множество\n",
    "D = {}          # D -- не пустое множество, а пустой словарь!\n",
    "```\n",
    "Если функции `set()` передать в качестве параметра список, строку или кортеж, то она вернет множество, составленное из элементов списка, строки, кортежа. Например (выполните код ниже):"
   ]
  },
  {
   "cell_type": "code",
   "execution_count": 7,
   "id": "6ac5b4c1-b73c-4f10-8536-91a8a379447d",
   "metadata": {},
   "outputs": [
    {
     "name": "stdout",
     "output_type": "stream",
     "text": [
      "{'t', 'r', 'q', 'e', 'w', 'y'}\n"
     ]
    }
   ],
   "source": [
    "A = set('qwerty')\n",
    "print(A)"
   ]
  },
  {
   "cell_type": "markdown",
   "id": "fc926e7e-d3c4-4a3a-a2d1-53a480ae3d38",
   "metadata": {},
   "source": [
    "Каждый элемент может входить в множество только один раз. Выполните код ниже:"
   ]
  },
  {
   "cell_type": "code",
   "execution_count": 8,
   "id": "8813532b-31c7-4682-9a63-1a828286b07a",
   "metadata": {},
   "outputs": [
    {
     "name": "stdout",
     "output_type": "stream",
     "text": [
      "True\n"
     ]
    }
   ],
   "source": [
    "A = {1, 2, 3}\n",
    "B = {3, 2, 3, 1}\n",
    "print(A == B) # A и B — равные множества."
   ]
  },
  {
   "cell_type": "code",
   "execution_count": 9,
   "id": "e75ab837-e857-4866-afd8-fe75cca8819b",
   "metadata": {},
   "outputs": [
    {
     "data": {
      "text/plain": [
       "{'H', 'e', 'l', 'o'}"
      ]
     },
     "execution_count": 9,
     "metadata": {},
     "output_type": "execute_result"
    }
   ],
   "source": [
    "set('Hello')"
   ]
  },
  {
   "cell_type": "markdown",
   "id": "5e0f511d-b72f-4b4f-8001-6d72bf634802",
   "metadata": {},
   "source": [
    "## Работа с элементами множеств\n",
    "\n",
    "|Операция    |Значение                                                            |\n",
    "|------------|--------------------------------------------------------------------|\n",
    "|x in A      |принадлежит ли элемент x множеству A (возвращают значение типа bool)|\n",
    "|x not in A  |то же, что not x in A                                               |\n",
    "|A.add(x)    |добавить элемент x в множество A                                    |\n",
    "|A.discard(x)|удалить элемент x из множества A                                    |\n",
    "|A.remove(x) |удалить элемент x из множества A                                    |\n",
    "|A.pop()\t |удаляет из множества один случайный элемент и возвращает его        |\n",
    "\n",
    "\n",
    "Поведение `discard()` и `remove()` различается тогда, когда удаляемый элемент отсутствует в множестве: `discard()` не делает ничего, а метод `remove()` генерирует исключение `KeyError`. Метод `pop()` также генерирует исключение `KeyError`, если множество пусто.\n",
    "\n",
    "При помощи цикла `for` можно перебрать все элементы множества:\n",
    "```python\n",
    "Primes = {2, 3, 5, 7, 11}\n",
    "for num im Primes:\n",
    "    print(num)\n",
    "```\n",
    "Из множества можно сделать список при помощи функции `list()` (выполните код в ячейке ниже):"
   ]
  },
  {
   "cell_type": "code",
   "execution_count": 13,
   "id": "a7a1b997-63ef-45af-95fc-7e534105e4b9",
   "metadata": {},
   "outputs": [],
   "source": [
    "A = {1, 2, 3, 4, 5}\n",
    "B = list(A)"
   ]
  },
  {
   "cell_type": "markdown",
   "id": "f0d004b1-e4c3-425e-a739-6d8d2da04b50",
   "metadata": {},
   "source": [
    "**Задание 1** — Вывести на экран все элементы множества A, которых нет в множестве B:"
   ]
  },
  {
   "cell_type": "code",
   "execution_count": 1,
   "id": "f102497f-9017-4f3c-9a2e-a320f033f894",
   "metadata": {},
   "outputs": [],
   "source": [
    "A = set('bqlpzlkwehrlulsdhfliuywemrlkjhsdlfjhlzxcovt')\n",
    "B = set('zmxcvnboaiyerjhbziuxdytvasenbriutsdvinjhgik')\n",
    "for x in A:\n",
    "    # РЕШИ МЕНЯ\n",
    "    pass"
   ]
  },
  {
   "cell_type": "markdown",
   "id": "f0c771e9-384a-4f2c-b6e7-a1041f1abf7a",
   "metadata": {},
   "source": [
    "## Работа с элементами множеств\n",
    "Картинки с объяснениями можно посмотреть https://ru.hexlet.io/courses/python-dicts/lessons/operations-on-sets/theory_unit\n",
    "\n",
    "|Операция    |Значение                                                            |\n",
    "|------------|--------------------------------------------------------------------|\n",
    "|A \\| B A.union(B)|\tВозвращает множество, являющееся объединением множеств A и B.|\t\n",
    "|A \\| = B A.update(B)|\tЗаписывает в A объединение множеств A и B.|\t\n",
    "|A & B A.intersection(B)|\tВозвращает множество, являющееся пересечением множеств A и B.|\t\n",
    "|A &= B A.intersection_update(B)|\tЗаписывает в A пересечение множеств A и B.|\t\n",
    "|A - B A.difference(B)|\tВозвращает разность множеств A и B (элементы, входящие в A, но не входящие в B).|\n",
    "|A -= B A.difference_update(B)|\tЗаписывает в A разность множеств A и B.|\t\n",
    "|A ^ B A.symmetric_difference(B)|\tВозвращает симметрическую разность множеств A и B (элементы, входящие в A или в B, но не в оба из них одновременно).|\t\n",
    "|A ^= B A.symmetric_difference_update(B)|\tЗаписывает в A симметрическую разность множеств A и B.|\n",
    "|A <= B A.issubset(B)|\tВозвращает True, если A является подмножеством B.|\n",
    "|A >= B A.issuperset(B)|\tВозвращает True, если B является подмножеством A.|\t\n",
    "|A < B|\tЭквивалентно A <= B and A != B.|\t\n",
    "|A > B|\tЭквивалентно A >= B and A != B.|\t\n",
    "\n"
   ]
  },
  {
   "cell_type": "markdown",
   "id": "284297c4-13f3-406a-9e7c-f8d173c88eef",
   "metadata": {},
   "source": [
    "### **Задача 5**  \n",
    "\n",
    "Даны четыре множества:\n",
    "```python\n",
    "A = set('0123456789')\n",
    "B = set('02468')\n",
    "C = set('12345')\n",
    "D = set('56789')\n",
    "```\n",
    "Найти элементы, принадлежащие множеству $E = ((A\\backslash B) \\cap (C\\backslash D)) \\cup ((D\\backslash A) \\cap (B\\backslash C))$"
   ]
  },
  {
   "cell_type": "code",
   "execution_count": null,
   "id": "f0060d0e-d041-47d2-9aad-17bf82457bad",
   "metadata": {},
   "outputs": [],
   "source": []
  },
  {
   "cell_type": "markdown",
   "id": "dfdcef97-957c-411a-9091-a264bc6258b3",
   "metadata": {},
   "source": [
    "# Словарь (ассоциативный массив, `dict`)\n",
    "В массиве или в списке индекс - это целое число. Традиционной является следующая ситуация:"
   ]
  },
  {
   "cell_type": "code",
   "execution_count": 17,
   "id": "393ba0f3-5b78-4ada-b9c0-f4eba864822e",
   "metadata": {},
   "outputs": [
    {
     "data": {
      "text/plain": [
       "'Sunday'"
      ]
     },
     "execution_count": 17,
     "metadata": {},
     "output_type": "execute_result"
    }
   ],
   "source": [
    "Days = ['Sunday', 'Monday', 'Tuesday', 'Wednessday', 'Thursday', 'Friday', 'Saturday']\n",
    "Days[0]"
   ]
  },
  {
   "cell_type": "code",
   "execution_count": 18,
   "id": "e4f50e49-93b3-4c2d-a122-69d3707cbd30",
   "metadata": {},
   "outputs": [
    {
     "data": {
      "text/plain": [
       "'Monday'"
      ]
     },
     "execution_count": 18,
     "metadata": {},
     "output_type": "execute_result"
    }
   ],
   "source": [
    "Days[1]"
   ]
  },
  {
   "cell_type": "markdown",
   "id": "fc82761c-68dc-43a0-8509-3a65b884f8b1",
   "metadata": {},
   "source": [
    "А как реализовать обратное соответствие?\n",
    "```python\n",
    ">>> Days['Sunday']\n",
    "0\n",
    ">>> Days['Monday']\n",
    "1\n",
    "```"
   ]
  },
  {
   "cell_type": "markdown",
   "id": "9330bfe6-8a5e-4ca7-8218-0f8b1f2f73ed",
   "metadata": {},
   "source": [
    "При помощи списка или массива это сделать невозможно, нужно использовать ассоциативный массив или словарь.\n",
    "\n",
    "В словаре индекс может быть любого неизменяемого типа! Индексы, как и сами хранимые значения, задаются явно:"
   ]
  },
  {
   "cell_type": "code",
   "execution_count": 19,
   "id": "e6b9b679-1c40-49bd-bd85-7b5f3fc47a4f",
   "metadata": {},
   "outputs": [
    {
     "data": {
      "text/plain": [
       "0"
      ]
     },
     "execution_count": 19,
     "metadata": {},
     "output_type": "execute_result"
    }
   ],
   "source": [
    "Days = {\n",
    "    'Sunday': 0,\n",
    "    'Monday': 1,\n",
    "    'Tuesday': 2,\n",
    "    'Wednessday': 3,\n",
    "    'Thursday': 4,\n",
    "    'Friday': 5,\n",
    "    'Saturday': 6\n",
    "}\n",
    "Days['Sunday']"
   ]
  },
  {
   "cell_type": "code",
   "execution_count": 20,
   "id": "afe1d4e0-0dc9-4b2e-bade-496247f521d2",
   "metadata": {},
   "outputs": [
    {
     "ename": "KeyError",
     "evalue": "'Yesterday'",
     "output_type": "error",
     "traceback": [
      "\u001b[0;31m---------------------------------------------------------------------------\u001b[0m",
      "\u001b[0;31mKeyError\u001b[0m                                  Traceback (most recent call last)",
      "Cell \u001b[0;32mIn[20], line 1\u001b[0m\n\u001b[0;32m----> 1\u001b[0m Days[\u001b[38;5;124m'\u001b[39m\u001b[38;5;124mYesterday\u001b[39m\u001b[38;5;124m'\u001b[39m]\n",
      "\u001b[0;31mKeyError\u001b[0m: 'Yesterday'"
     ]
    }
   ],
   "source": [
    "Days['Yesterday']"
   ]
  },
  {
   "cell_type": "markdown",
   "id": "df60c5fc-e5c4-46db-a0a1-689c7fef1f9d",
   "metadata": {},
   "source": [
    "При попытке обратиться к несуществующему элементу ассоциативного массива мы получаем исключение KeyError.\n",
    "\n",
    "Особенностью ассоциативного массива является его динамичность: в него можно добавлять новые элементы с произвольными ключами и удалять уже существующие элементы."
   ]
  },
  {
   "cell_type": "code",
   "execution_count": 21,
   "id": "3a49561f-5713-499d-9e94-4ebfd909fcd7",
   "metadata": {},
   "outputs": [
    {
     "name": "stdout",
     "output_type": "stream",
     "text": [
      "-1\n"
     ]
    }
   ],
   "source": [
    "Days['Yesterday'] = -1\n",
    "print(Days['Yesterday'])"
   ]
  },
  {
   "cell_type": "markdown",
   "id": "6544171b-8c08-4c40-96db-b8a8c08d5074",
   "metadata": {},
   "source": [
    "При этом размер используемой памяти пропорционален размеру ассоциативного массива. Доступ к элементам ассоциативного массива выполняется хоть и медленнее, чем к обычным массивам, но в целом довольно быстро.\n",
    "\n",
    "Значения ключей уникальны, двух одинаковых ключей в словаре быть не может. А вот значения могут быть одинаковыми."
   ]
  },
  {
   "cell_type": "code",
   "execution_count": 23,
   "id": "366a86e3-492e-4f15-9c19-08f661e2b284",
   "metadata": {},
   "outputs": [
    {
     "data": {
      "text/plain": [
       "True"
      ]
     },
     "execution_count": 23,
     "metadata": {},
     "output_type": "execute_result"
    }
   ],
   "source": [
    "Days['Tomorrow'] = -1\n",
    "Days['Yesterday'] == Days['Tomorrow']"
   ]
  },
  {
   "cell_type": "markdown",
   "id": "e1e99bb7-cf98-4731-9838-63242acea9e0",
   "metadata": {},
   "source": [
    "Ключом может быть произвольный **неизменяемый** тип данных: целые и действительные числа, строки, кортежи. Ключом в словаре не может быть множество, но может быть элемент типа frozenset: специальный тип данных, являющийся аналогом типа set, который нельзя изменять после создания. Значением элемента словаря может быть любой тип данных, в том числе и изменяемый."
   ]
  },
  {
   "cell_type": "markdown",
   "id": "32e2d623-cb32-4ef7-974a-14e0f1acbd8c",
   "metadata": {},
   "source": [
    "## Создание словаря\n",
    "Пустой словарь можно создать при помощи функции `dict()` или пустой пары фигурных скобок {} (вот почему фигурные скобки нельзя использовать для создания пустого множества).\n",
    "\n",
    "Для создания словаря с некоторым набором начальных значений можно использовать следующие конструкции:\n",
    "```python\n",
    "Capitals = {'Russia': 'Москва', 'China': 'Пекин', 'Brazilia': 'Бразилиа'}\n",
    "Capitals = dict(Russia = 'Москва', China = 'Пекин', Brazilia = 'Бразилиа')\n",
    "Capitals = dict([(\"Russia\", \"Москва\"), (\"China\", \"Пекин\"), (\"Brazilia\", \"Бразилиа\")])\n",
    "Capitals = dict(zip([\"Russia\", \"China\", \"Brazilia\"], [\"Москва\", \"Пекин\", \"Бразилиа\"]))\n",
    "```\n",
    "Также можно использовать генерацию словаря через Dict comprehensions:\n",
    "```python\n",
    "Cities = [\"Москва\", \"Пекин\", \"Бразилиа\"]\n",
    "States = [\"Россия\", \"Китай\", \"Бразилия\"]\n",
    "CapitalsOfState = {state: city for city, state in zip(Cities, States)}\n",
    "```\n",
    "Это особенно полезно, когда нужно \"вывернуть\" словарь наизнанку:\n",
    "```python\n",
    "StateByCapital = {CapitalsOfState[state]: state for state in CapitalsOfState}\n",
    "```"
   ]
  },
  {
   "cell_type": "markdown",
   "id": "278a3d23-0a82-4621-91e0-9d8dbb30aa45",
   "metadata": {},
   "source": [
    "## Операции с элементами словарей\n",
    "|Операция|\tЗначение|\t\n",
    "|--------|----------|\n",
    "|value = A[key]|\tПолучение элемента по ключу. Если элемента с заданным ключом в словаре нет, то возникает исключение KeyError.|\t\n",
    "|value = A.get(key)|\tПолучение элемента по ключу. Если элемента в словаре нет, то get возвращает None.|\n",
    "|value = A.get(key, default_value)|\tТо же, но вместо None метод get возвращает default_value.|\n",
    "|key in A|\tПроверить принадлежность ключа словарю.|\t\n",
    "|key not in A|\tТо же, что not key in A.|\t\n",
    "|A[key] = value|\tДобавление нового элемента в словарь.|\t\n",
    "|del A[key]|\tУдаление пары ключ-значение с ключом key. Возбуждает исключение KeyError, если такого ключа нет.|\t\n",
    "|if key in A: del A[key]| Удаление пары ключ-значение с предварительной проверкой наличия ключа.|\t\n",
    "|try: del A[key] except KeyError: pass|Удаление пары ключ-значение с перехватыванием и обработкой исключения.|\t\n",
    "|value = A.pop(key)|\tУдаление пары ключ-значение с ключом key и возврат значения удаляемого элемента.Если такого ключа нет, то возбуждается KeyError.|\t\n",
    "|value = A.pop(key, default_value)|\tТо же, но вместо генерации исключения возвращается default_value.|\t\n",
    "|A.pop(key, None)|\tЭто позволяет проще всего организовать безопасное удаление элемента из словаря.|\t\n",
    "|len(A)|\tВозвращает количество пар ключ-значение, хранящихся в словаре.|\t"
   ]
  },
  {
   "cell_type": "markdown",
   "id": "a2283c1d-6ad5-4670-a66c-2e18e336af8c",
   "metadata": {},
   "source": [
    "### Перебор элементов словаря по ключу\n",
    "```python\n",
    "for key in A:\n",
    "    print(key, A[key])\n",
    "```"
   ]
  },
  {
   "cell_type": "markdown",
   "id": "b66f9cd2-3f4e-4f79-8bc4-11701e8d8b88",
   "metadata": {},
   "source": [
    "### Представления элементов словаря\n",
    "Представления во многом похожи на списки, но они остаются связанными со своим исходным словарём и изменяются, если менять значения элементов словаря.\n",
    "\n",
    "* Метод `keys()` возвращает представление ключей всех элементов.\n",
    "* Метод `values()` возвращает представление всех значений.\n",
    "* Метод `items()` возвращает представление всех пар (кортежей) из ключей и значений."
   ]
  },
  {
   "cell_type": "code",
   "execution_count": 25,
   "id": "5f27120d-15a9-4cc0-b3f2-2d1f44d261be",
   "metadata": {},
   "outputs": [
    {
     "data": {
      "text/plain": [
       "(dict_keys(['a', 'b', 'c']), dict_values(['a', 'b', 'c']))"
      ]
     },
     "execution_count": 25,
     "metadata": {},
     "output_type": "execute_result"
    }
   ],
   "source": [
    "A = dict(a='a', b='b', c='c')\n",
    "k = A.keys()\n",
    "v = A.values()\n",
    "k, v"
   ]
  },
  {
   "cell_type": "code",
   "execution_count": 26,
   "id": "1aaf866e-08f2-42c3-8b23-e66ce208745c",
   "metadata": {},
   "outputs": [
    {
     "data": {
      "text/plain": [
       "(dict_keys(['a', 'b', 'c', 'd']), dict_values(['a', 'b', 'c', 'a']))"
      ]
     },
     "execution_count": 26,
     "metadata": {},
     "output_type": "execute_result"
    }
   ],
   "source": [
    "A['d'] = 'a'\n",
    "k, v"
   ]
  },
  {
   "cell_type": "markdown",
   "id": "6e8b04d3-04f6-48b0-8028-233c1b7b5a60",
   "metadata": {},
   "source": [
    "Учтите, что итерироваться по представлениям, изменяя словарь, нельзя:"
   ]
  },
  {
   "cell_type": "code",
   "execution_count": 27,
   "id": "27966f35-f5fa-4963-aa97-023a58f13fb4",
   "metadata": {},
   "outputs": [
    {
     "ename": "RuntimeError",
     "evalue": "dictionary changed size during iteration",
     "output_type": "error",
     "traceback": [
      "\u001b[0;31m---------------------------------------------------------------------------\u001b[0m",
      "\u001b[0;31mRuntimeError\u001b[0m                              Traceback (most recent call last)",
      "Cell \u001b[0;32mIn[27], line 1\u001b[0m\n\u001b[0;32m----> 1\u001b[0m \u001b[38;5;28;01mfor\u001b[39;00m key \u001b[38;5;129;01min\u001b[39;00m A\u001b[38;5;241m.\u001b[39mkeys():\n\u001b[1;32m      2\u001b[0m     \u001b[38;5;28;01mdel\u001b[39;00m A[key]\n",
      "\u001b[0;31mRuntimeError\u001b[0m: dictionary changed size during iteration"
     ]
    }
   ],
   "source": [
    "for key in A.keys():\n",
    "    del A[key]"
   ]
  },
  {
   "cell_type": "markdown",
   "id": "92eb1eee-2e4c-4020-aed0-62d87096a92b",
   "metadata": {},
   "source": [
    "Можно, если в начале скопировать представление в список:"
   ]
  },
  {
   "cell_type": "code",
   "execution_count": 28,
   "id": "cadd78fc-26f6-42bd-9fab-a0970b8b8ad2",
   "metadata": {},
   "outputs": [
    {
     "data": {
      "text/plain": [
       "{}"
      ]
     },
     "execution_count": 28,
     "metadata": {},
     "output_type": "execute_result"
    }
   ],
   "source": [
    "for key in list(A.keys()):\n",
    "    del A[key]\n",
    "A"
   ]
  },
  {
   "cell_type": "markdown",
   "id": "92664111-bf24-43f6-98f7-efe6a9c4a795",
   "metadata": {},
   "source": [
    "### Пример использования словаря"
   ]
  },
  {
   "cell_type": "code",
   "execution_count": 32,
   "id": "ef272602-7cd5-441e-8395-34ae4d57b983",
   "metadata": {},
   "outputs": [
    {
     "name": "stdout",
     "output_type": "stream",
     "text": [
      "В какой стране вы живете?\n"
     ]
    },
    {
     "name": "stdin",
     "output_type": "stream",
     "text": [
      " Китай\n"
     ]
    },
    {
     "name": "stdout",
     "output_type": "stream",
     "text": [
      "Столица вашей страны Пекин\n"
     ]
    }
   ],
   "source": [
    "# Создадим пустой словать Capitals\n",
    "Capitals = dict()\n",
    "\n",
    "# Заполним его несколькими значениями\n",
    "Capitals['Россия'] = 'Москва'\n",
    "Capitals['Китай'] = 'Пекин'\n",
    "Capitals['Бразилия'] = 'Бразилиа'\n",
    "\n",
    "# Считаем название страны\n",
    "print('В какой стране вы живете?')\n",
    "country = input()\n",
    "\n",
    "# Проверим, есть ли такая страна в словаре Capitals\n",
    "if country in Capitals:\n",
    "    # Если есть - выведем ее столицу\n",
    "    print('Столица вашей страны', Capitals[country])\n",
    "else:\n",
    "    # Запросим название столицы и добавим его в словарь\n",
    "    print('Как называется столица вашей страны?')\n",
    "    city = input()\n",
    "    Capitals[country] = city"
   ]
  },
  {
   "cell_type": "markdown",
   "id": "0e61999b-94a1-4ca7-810a-42e029824f33",
   "metadata": {},
   "source": [
    "### Когда нужно использовать словари\n",
    "Словари нужно использовать в следующих случаях:\n",
    "* Подсчет числа каких-то объектов. В этом случае нужно завести словарь, в котором ключами являются объекты, а значениями — их количество.\n",
    "* Хранение каких-либо данных, связанных с объектом. Ключи — объекты, значения — связанные с ними данные. Например, если нужно по названию месяца определить его порядковый номер, то это можно сделать при помощи словаря \n",
    "```python\n",
    "Num['January'] = 1 \n",
    "Num['February'] = 2\n",
    "...\n",
    "```\n",
    "* Установка соответствия между объектами (например, “родитель—потомок”). Ключ — объект, значение — соответствующий ему объект.\n",
    "* Если нужен обычный массив, но при этом масимальное значение индекса элемента очень велико, но при этом будут использоваться не все возможные индексы (так называемый “разреженный массив”), то можно использовать ассоциативный массив для экономии памяти."
   ]
  },
  {
   "cell_type": "markdown",
   "id": "b6d70aaf",
   "metadata": {},
   "source": [
    "## 3. Генераторы\n",
    "Генератор это подвид итерируемых объектов, таких как список или кортеж. Он генерирует для нас последовательность значений, которую мы можем перебрать. Однако их нельзя индексировать, т.е \"пройтись\" по генератору мы можем один раз. Для создания генератора в Python внутри функции вместо ключевого слова return используется ключевое слово yield. "
   ]
  },
  {
   "cell_type": "code",
   "execution_count": 1,
   "id": "00e565f0",
   "metadata": {},
   "outputs": [],
   "source": [
    "def generate_ints(N):\n",
    "    for i in range(N):\n",
    "        yield i"
   ]
  },
  {
   "cell_type": "code",
   "execution_count": 4,
   "id": "12d7550f",
   "metadata": {},
   "outputs": [
    {
     "name": "stdout",
     "output_type": "stream",
     "text": [
      "0\n",
      "1\n"
     ]
    }
   ],
   "source": [
    "gen = generate_ints(5)\n",
    "print(next(gen))\n",
    "print(next(gen))"
   ]
  },
  {
   "cell_type": "markdown",
   "id": "c6da8302",
   "metadata": {},
   "source": [
    "Или же мы могли сделать так:"
   ]
  },
  {
   "cell_type": "code",
   "execution_count": 3,
   "id": "b6783141",
   "metadata": {
    "scrolled": true
   },
   "outputs": [
    {
     "name": "stdout",
     "output_type": "stream",
     "text": [
      "0\n",
      "1\n",
      "2\n",
      "3\n",
      "4\n"
     ]
    }
   ],
   "source": [
    "for i in generate_ints(5):\n",
    "    print(i)"
   ]
  },
  {
   "cell_type": "markdown",
   "id": "1e8ed5ab",
   "metadata": {},
   "source": [
    "В чём же различия между ключивыми словами ***return*** и ***yield***.\n",
    "\n",
    "Когда интерпретатор доходит до слова return, то выполнение функции полностью прекращается.\n",
    "\n",
    "Когда он доходит до ключевого слова yield, программа приостанавливает выполнение функции и возвращает значение в итерируемый объект. Затем интерпретатор возвращается к генератору, чтобы повторить процесс для нового значения.\n",
    "Кроме того, при прекращении выполнения функции ее локальные переменные стираются. С генераторами не так."
   ]
  },
  {
   "cell_type": "code",
   "execution_count": 5,
   "id": "524da03c",
   "metadata": {},
   "outputs": [
    {
     "name": "stdout",
     "output_type": "stream",
     "text": [
      "1\n"
     ]
    }
   ],
   "source": [
    "# функция\n",
    "def fibonacci(n):\n",
    "    fib1, fib2 = 0, 1\n",
    "    for i in range(n):\n",
    "        fib1, fib2 = fib2, fib1 + fib2\n",
    "        return fib1\n",
    "print(fibonacci(10))"
   ]
  },
  {
   "cell_type": "code",
   "execution_count": 6,
   "id": "ca4a9c2c",
   "metadata": {},
   "outputs": [
    {
     "name": "stdout",
     "output_type": "stream",
     "text": [
      "1 1 2 3 5 8 13 21 34 55\n"
     ]
    }
   ],
   "source": [
    "# генератор\n",
    "def fibonacci(n):\n",
    "    fib1, fib2 = 0, 1\n",
    "    for i in range(n):\n",
    "        fib1, fib2 = fib2, fib1 + fib2\n",
    "        yield fib1\n",
    "print(*fibonacci(10))"
   ]
  },
  {
   "cell_type": "markdown",
   "id": "2a30d07c",
   "metadata": {},
   "source": [
    "### Задача 6\n"
   ]
  },
  {
   "cell_type": "markdown",
   "id": "fa9be8db",
   "metadata": {},
   "source": [
    "Напишите генератор factorials(n), генерирующий последовательность факториалов натуральных чисел."
   ]
  },
  {
   "cell_type": "code",
   "execution_count": null,
   "id": "044d58e2",
   "metadata": {},
   "outputs": [],
   "source": []
  },
  {
   "cell_type": "markdown",
   "id": "760bc34c",
   "metadata": {},
   "source": [
    "## ООП"
   ]
  },
  {
   "cell_type": "markdown",
   "id": "6097e5b1",
   "metadata": {},
   "source": [
    "Подробнее об ООП можно почитать тут : https://smartiqa.ru/courses/python/lesson-6?ysclid=lnx08m5h3a397589593.\n",
    "\n",
    "Некторые материалы ноутбука по ООП взяты оттуда."
   ]
  },
  {
   "cell_type": "markdown",
   "id": "32542e16",
   "metadata": {},
   "source": [
    "### Создание класса"
   ]
  },
  {
   "cell_type": "markdown",
   "id": "0bdf07b0",
   "metadata": {},
   "source": [
    "Объявить класс можно следующим образом: \n",
    "```python\n",
    "class Example: \n",
    "    body\n",
    "```\n",
    "Напомним, что класс содержит атрибуты(переменную, метод, подкласс). Поля(переменные) могут быть как статистическими, так и динамическими. Для получения статистической переменной не нужно создавать экземпляр класса, а для динамических это будет сделать необходимо. "
   ]
  },
  {
   "cell_type": "code",
   "execution_count": 26,
   "id": "7bc59a07",
   "metadata": {},
   "outputs": [],
   "source": [
    "class Human:\n",
    "    default = \"human\"\n",
    "    def __init__(self, age):\n",
    "        self.age = age"
   ]
  },
  {
   "cell_type": "code",
   "execution_count": 28,
   "id": "886121f4",
   "metadata": {},
   "outputs": [
    {
     "data": {
      "text/plain": [
       "'human'"
      ]
     },
     "execution_count": 28,
     "metadata": {},
     "output_type": "execute_result"
    }
   ],
   "source": [
    "# не создавали экземпляр\n",
    "Human.default"
   ]
  },
  {
   "cell_type": "code",
   "execution_count": 31,
   "id": "50779243",
   "metadata": {},
   "outputs": [
    {
     "data": {
      "text/plain": [
       "25"
      ]
     },
     "execution_count": 31,
     "metadata": {},
     "output_type": "execute_result"
    }
   ],
   "source": [
    "# создали экземпляр\n",
    "h = Human(25)\n",
    "h.age"
   ]
  },
  {
   "cell_type": "markdown",
   "id": "1e8d99ea",
   "metadata": {},
   "source": [
    "Отметим, что можно легко менять атрибуты экземпляра класса. "
   ]
  },
  {
   "cell_type": "markdown",
   "id": "d60ceeaf",
   "metadata": {},
   "source": [
    "### Методы класса\n",
    "\n",
    "Метод – это функция внутри класса. \n",
    "Все методы можно разделить на 2 группы:\n",
    "1. Встроенные(служебные) методы(атрибуты)\n",
    "2. Пользовательские методы(атрибуты)"
   ]
  },
  {
   "cell_type": "markdown",
   "id": "3338b868",
   "metadata": {},
   "source": [
    "### Встроенные атрибуты\n",
    "\n",
    "Ими являются:\n",
    "\n",
    "1. __new__(cls[, ...]) - Конструктор. Создает экземпляр(объект) класса. Сам класс передается в качестве аргумента.\n",
    "2. __init__(self[, ...]) - Инициализатор. Принимает свежесозданный объект класса из конструктора.\n",
    "3. __del__(self) - Деструктор. Вызывается при удалении объекта сборщиком мусора.\n",
    "4. __str__(self) - Возвращает строковое представление объекта.\n",
    "5. __hash__(self) - Возвращает хэш-сумму объекта.\n",
    "6. __dict__ - Словарь, в котором хранится пространство имен класса."
   ]
  },
  {
   "cell_type": "markdown",
   "id": "b1001240",
   "metadata": {},
   "source": [
    "### Пользовательские атрибуты"
   ]
  },
  {
   "cell_type": "markdown",
   "id": "8e8cbc78",
   "metadata": {},
   "source": [
    "Это атрибуты, которые составляют основной функционал класса. Пользовательские атрибуты \n",
    "пишутся программистом во время реализации класса. "
   ]
  },
  {
   "cell_type": "markdown",
   "id": "c1f3be4f",
   "metadata": {},
   "source": [
    "### Уровни доступа атрибутов в Python"
   ]
  },
  {
   "cell_type": "markdown",
   "id": "c983b320",
   "metadata": {},
   "source": [
    "1. Private. Приватные члены класса недоступны извне - с ними можно работать только внутри класса.\n",
    "2. Public. Публичные методы наоборот - открыты для работы снаружи и, как правило, объявляются публичными сразу по-умолчанию.\n",
    "3. Protected. Доступ к защищенным ресурсам класса возможен только внутри этого класса и также внутри унаследованных от него классов (иными словами, внутри классов-потомков). Больше никто доступа к ним не имеет."
   ]
  },
  {
   "cell_type": "markdown",
   "id": "46398d59",
   "metadata": {},
   "source": [
    "1. Если переменная/метод начинается с одного нижнего подчеркивания (_protected_example), то она/он считается защищенным (protected).\n",
    "2. Если переменная/метод начинается с двух нижних подчеркиваний (__private_example), то она/он считается приватным (private)."
   ]
  },
  {
   "cell_type": "code",
   "execution_count": 44,
   "id": "f505fe4d",
   "metadata": {},
   "outputs": [
    {
     "name": "stdout",
     "output_type": "stream",
     "text": [
      "price:  1200\n"
     ]
    }
   ],
   "source": [
    "# Создаём класс книга\n",
    "class Book:\n",
    "\n",
    "    def __init__(self, title, author, price):\n",
    "        # Объявляем приватное поле title и author\n",
    "        self.__title = title\n",
    "        self.__author = author\n",
    "        # Объявляем публичное поле\n",
    "        self.price = price\n",
    "    \n",
    "    # метод узнать цену книги\n",
    "    def what_is_the_price(self):\n",
    "        print('price: ', self.price)\n",
    "        \n",
    "# создаём экземпляр класса\n",
    "book1 = Book('War and Peace', 'Tolstoy L. N.', 1200)\n",
    "# узнаём цену книги\n",
    "book1.what_is_the_price()"
   ]
  },
  {
   "cell_type": "markdown",
   "id": "880ff666",
   "metadata": {},
   "source": [
    "### Наследование в Python"
   ]
  },
  {
   "cell_type": "markdown",
   "id": "08050401",
   "metadata": {},
   "source": [
    "Механизм наследования позволяет создать новый класс на основе уже существующего. \n",
    "Новый класс включает в себя как атрибуты родительского класса и новые, собственные атрибуты.\n",
    "Эти новые атрибуты и отличают свежесозданный класс от его родителя."
   ]
  },
  {
   "cell_type": "code",
   "execution_count": 49,
   "id": "99a40414",
   "metadata": {},
   "outputs": [],
   "source": [
    "# родительский класс\n",
    "class Book:\n",
    "\n",
    "    def __init__(self, title, author, price):\n",
    "        # Объявляем приватное поле title и author\n",
    "        self.__title = title\n",
    "        self.__author = author\n",
    "        # Объявляем публичное поле\n",
    "        self.price = price\n",
    "    \n",
    "    # метод узнать цену книги\n",
    "    def what_is_the_price(self):\n",
    "        print('price: ', self.price)\n",
    "        \n",
    "# унаследованный класс(электронная книга)\n",
    "\n",
    "class eBook(Book):\n",
    "    # Добавляем новое свойство качество\n",
    "    def __init__(self, quality):\n",
    "        super().__init__()\n",
    "        self.quality = quality\n",
    "    \n",
    "    # \n",
    "    def what_is_the_quality(self):\n",
    "        super().__init__()\n",
    "        print('price: ', self.quality)"
   ]
  },
  {
   "cell_type": "markdown",
   "id": "f15b9d9e",
   "metadata": {},
   "source": [
    "Что это за метод super?\n",
    "\n",
    "Главная задача этого метода - дать возможность наследнику обратиться к родительскому классу.\n",
    "В классе родителе Book свой инициализатор, и когда в потомке eBook мы так же создаем инициализатор, то мы его перегружаем.\n",
    "Иными словами, мы заменяем родительский метод __init__() собственным одноименным методом. Это чревато тем,\n",
    "что родительский метод просто в принципе не будет вызван, и мы потеряем его функционал в классе наследнике. \n",
    "\n",
    "Решается эта проблема так - внутри инициализатора класса-наследника вызвать инициализатор родителя(для этого вызываем метод super().__init__())\n",
    "\n",
    "А затем просто добавить новый функционал!"
   ]
  },
  {
   "cell_type": "markdown",
   "id": "9e640b61",
   "metadata": {},
   "source": [
    "### Задача 7"
   ]
  },
  {
   "cell_type": "markdown",
   "id": "123a1944",
   "metadata": {},
   "source": [
    "Создайте класс Alphabet.\n",
    "\n",
    "***1.1*** Создайте метод __init__(), внутри которого будут определены три динамических параметра(свойства): \n",
    "    1) lang - язык и 2) letters_vowel - список гласных букв и 3) letters_consonant - список согласных букв. \n",
    "    \n",
    "Начальные значения свойств берутся из входных параметров метода.\n",
    "\n",
    "***1.2*** Создайте методы print_vowel() и print_consonant(), который выведет в консоль гласные и согласные буквы алфавита.\n",
    "\n",
    "***1.3*** Создайте методы vowel_num() и consonant_num(), который вернет количество гласных и согласных букв в алфавите. \n",
    "\n",
    "***1.4*** Создайте класс RusAlphabet путем наследования от класса Alphabet.\n",
    "\n",
    "***1.5*** Создайте метод __init__(), внутри которого будет вызываться родительский метод __init__(). В качестве параметров ему будут передаваться обозначение языка(например, 'Rus') и строка, состоящая из всех букв алфавита.\n",
    "\n",
    "***1.6*** Создайте метод is_rus_letter(), который будет принимать букву в качестве параметра и определять, относится ли эта буква к английскому алфавиту.\n",
    "\n",
    "***1.7*** Создайте статический метод example(), который будет возвращать пример текста на русском языке.\n",
    "\n",
    "***1.8*** Создайте объект класса RusAlphabet, выведите буквы для этого алфавита, число гласных и согласных букв. \n",
    "\n",
    "***1.9*** Выведите пример текста на русском языке, используя example(). \n",
    "\n",
    "***1.10*** Проверьте принадлежность нескольких букв к Алфавиту."
   ]
  },
  {
   "cell_type": "code",
   "execution_count": null,
   "id": "04949dcc",
   "metadata": {},
   "outputs": [],
   "source": []
  },
  {
   "cell_type": "markdown",
   "id": "57d15a85",
   "metadata": {},
   "source": [
    "### Задача 8"
   ]
  },
  {
   "cell_type": "markdown",
   "id": "819aa673",
   "metadata": {},
   "source": [
    "Реализуёте мини-книжный магазин. У книги есть название (title), цена (price), жанр (genre).\n",
    "Покупатель покупает книги, например передаёт список необходимых книг магазину, а магазин выставляет счёт. \n",
    "Магазин имеет скидки.\n",
    "1. за две разных книжки 5%\n",
    "2. за пять разных книг 10%\n",
    "3. скидки не суммируются, например, 11 разных книг - 10% на все.\n",
    "\n",
    "Реализуйте функцию, которая на вход получает список книг, а на выходе выдаёт цену и название книг или говорит о том, что книг нет в наличие. Используёте ООП, создав необходимый класс или классы. "
   ]
  },
  {
   "cell_type": "code",
   "execution_count": null,
   "id": "d6a315b8",
   "metadata": {},
   "outputs": [],
   "source": []
  }
 ],
 "metadata": {
  "kernelspec": {
   "display_name": "Python 3 (ipykernel)",
   "language": "python",
   "name": "python3"
  },
  "language_info": {
   "codemirror_mode": {
    "name": "ipython",
    "version": 3
   },
   "file_extension": ".py",
   "mimetype": "text/x-python",
   "name": "python",
   "nbconvert_exporter": "python",
   "pygments_lexer": "ipython3",
   "version": "3.12.1"
  }
 },
 "nbformat": 4,
 "nbformat_minor": 5
}
