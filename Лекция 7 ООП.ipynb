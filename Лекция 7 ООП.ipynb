{
 "cells": [
  {
   "cell_type": "markdown",
   "id": "19856b88-570b-457e-9ea2-6d5cf2c552db",
   "metadata": {},
   "source": [
    "# Объектно-ориентированная парадигма\n",
    "### Данные структурируются в виде объектов, каждый из которых имеет определенный тип, то есть принадлежит к какому-либо классу.\n",
    "### Классы – результат формализации решаемой задачи, выделения главных ее аспектов.\n",
    "### Внутри объекта инкапсулируется логика работы с относящейся к нему информацией.\n",
    "### Объекты в программе взаимодействуют друг с другом, обмениваются запросами и ответами. При этом объекты одного типа сходным образом отвечают на одни и те же запросы.\n",
    "### Объекты могут организовываться в более сложные структуры, например, включать другие объекты или наследовать от одного или нескольких объектов.\n"
   ]
  },
  {
   "cell_type": "markdown",
   "id": "4bb352fd-b049-48f4-830e-b02d729e703e",
   "metadata": {},
   "source": [
    "Создавать классы в Python очень просто:"
   ]
  },
  {
   "cell_type": "code",
   "execution_count": 2,
   "id": "32aa0c2d-b6cb-43d1-ade8-095be41fa644",
   "metadata": {},
   "outputs": [
    {
     "ename": "SyntaxError",
     "evalue": "incomplete input (2180990277.py, line 2)",
     "output_type": "error",
     "traceback": [
      "\u001b[1;36m  Cell \u001b[1;32mIn[2], line 2\u001b[1;36m\u001b[0m\n\u001b[1;33m    # поля и методы класса SomeClass\u001b[0m\n\u001b[1;37m                                    ^\u001b[0m\n\u001b[1;31mSyntaxError\u001b[0m\u001b[1;31m:\u001b[0m incomplete input\n"
     ]
    }
   ],
   "source": [
    "class SomeClass(object):\n",
    "  # поля и методы класса SomeClass"
   ]
  },
  {
   "cell_type": "markdown",
   "id": "61fcfd67-8b79-4a35-97e3-6502c20ed374",
   "metadata": {},
   "source": [
    "Классы-родители перечисляются в скобках через запятую:"
   ]
  },
  {
   "cell_type": "code",
   "execution_count": 3,
   "id": "0db0dbb6-b336-4e06-9307-68757f84bd1d",
   "metadata": {},
   "outputs": [
    {
     "ename": "SyntaxError",
     "evalue": "invalid character '…' (U+2026) (3156600816.py, line 1)",
     "output_type": "error",
     "traceback": [
      "\u001b[1;36m  Cell \u001b[1;32mIn[3], line 1\u001b[1;36m\u001b[0m\n\u001b[1;33m    class SomeClass(ParentClass1, ParentClass2, …):\u001b[0m\n\u001b[1;37m                                                ^\u001b[0m\n\u001b[1;31mSyntaxError\u001b[0m\u001b[1;31m:\u001b[0m invalid character '…' (U+2026)\n"
     ]
    }
   ],
   "source": [
    "class SomeClass(ParentClass1, ParentClass2, …):\n",
    "  # поля и методы класса SomeClass"
   ]
  },
  {
   "cell_type": "markdown",
   "id": "512dd464-4862-45b3-8640-f28b69921b30",
   "metadata": {},
   "source": [
    "Свойства классов устанавливаются с помощью простого присваивания:"
   ]
  },
  {
   "cell_type": "code",
   "execution_count": 5,
   "id": "b18140c3-d298-4dee-98f6-425f65457c33",
   "metadata": {},
   "outputs": [],
   "source": [
    "class SomeClass(object):\n",
    "    attr1 = 42\n",
    "    attr2 = \"Hello, World\""
   ]
  },
  {
   "cell_type": "markdown",
   "id": "73ba773b-e122-4da7-b5f3-6e3d9a74fd88",
   "metadata": {},
   "source": [
    "Методы объявляются как простые функции:"
   ]
  },
  {
   "cell_type": "code",
   "execution_count": 6,
   "id": "7820e006-c247-4011-bc4c-45dcc7a70717",
   "metadata": {},
   "outputs": [
    {
     "ename": "SyntaxError",
     "evalue": "incomplete input (592464490.py, line 3)",
     "output_type": "error",
     "traceback": [
      "\u001b[1;36m  Cell \u001b[1;32mIn[6], line 3\u001b[1;36m\u001b[0m\n\u001b[1;33m    # код метода\u001b[0m\n\u001b[1;37m                ^\u001b[0m\n\u001b[1;31mSyntaxError\u001b[0m\u001b[1;31m:\u001b[0m incomplete input\n"
     ]
    }
   ],
   "source": [
    "class SomeClass(object):\n",
    "    def method1(self, x):\n",
    "        # код метода"
   ]
  },
  {
   "cell_type": "markdown",
   "id": "042f67b8-9039-4e70-8f89-739017d981d2",
   "metadata": {},
   "source": [
    "self – общепринятое имя для ссылки на объект, в контексте которого вызывается метод. Этот параметр обязателен и отличает метод класса от обычной функции.\n",
    "\n",
    "Все пользовательские атрибуты сохраняются в атрибуте __dict__, который является словарем."
   ]
  },
  {
   "cell_type": "markdown",
   "id": "b0ffcfda-c45f-4208-b48e-6aa1f8841eea",
   "metadata": {},
   "source": [
    "### Экземпляры классов\n",
    "Инстанцировать класс в Python тоже очень просто:"
   ]
  },
  {
   "cell_type": "code",
   "execution_count": 7,
   "id": "059b2178-d37c-4ee2-8b64-a504fbf7b2e3",
   "metadata": {},
   "outputs": [
    {
     "data": {
      "text/plain": [
       "42"
      ]
     },
     "execution_count": 7,
     "metadata": {},
     "output_type": "execute_result"
    }
   ],
   "source": [
    "class SomeClass(object):\n",
    "    attr1 = 42\n",
    "\n",
    "    def method1(self, x):\n",
    "        return 2*x\n",
    "\n",
    "obj = SomeClass()\n",
    "obj.method1(6) # 12\n",
    "obj.attr1 # 42"
   ]
  },
  {
   "cell_type": "markdown",
   "id": "5b552aa5-e650-457c-951c-7323b14fd43c",
   "metadata": {},
   "source": [
    "Можно создавать разные инстансы одного класса с заранее заданными параметрами с помощью инициализатора (специальный метод __init__). Для примера возьмем класс Point (точка пространства), объекты которого должны иметь определенные координаты:"
   ]
  },
  {
   "cell_type": "code",
   "execution_count": 1,
   "id": "1c5d55d8-f673-4eb9-84b7-62737a017a54",
   "metadata": {},
   "outputs": [
    {
     "data": {
      "text/plain": [
       "(13, 14, 15)"
      ]
     },
     "execution_count": 1,
     "metadata": {},
     "output_type": "execute_result"
    }
   ],
   "source": [
    "class Point(object):\n",
    "    def __init__(self, x, y, z):\n",
    "        self.coord = (x, y, z)\n",
    "\n",
    "p = Point(13, 14, 15)\n",
    "p.coord # (13, 14, 15)"
   ]
  },
  {
   "cell_type": "markdown",
   "id": "6d453945-8035-489b-9b3b-1965332f1b67",
   "metadata": {},
   "source": [
    "### Динамическое изменение\n",
    "Можно обойтись даже без определения атрибутов и методов:"
   ]
  },
  {
   "cell_type": "code",
   "execution_count": 8,
   "id": "750ab672-dbbc-442a-ade6-ce26245c2a2f",
   "metadata": {},
   "outputs": [],
   "source": [
    "class SomeClass(object):\n",
    "    pass"
   ]
  },
  {
   "cell_type": "markdown",
   "id": "225204d2-ec75-4e98-9b31-58d8eb65faaf",
   "metadata": {},
   "source": [
    "Классы в Python могут динамически изменяться после определения:"
   ]
  },
  {
   "cell_type": "code",
   "execution_count": 9,
   "id": "dde5161e-710f-4be7-9a4c-f3ef4c10decc",
   "metadata": {},
   "outputs": [
    {
     "data": {
      "text/plain": [
       "25"
      ]
     },
     "execution_count": 9,
     "metadata": {},
     "output_type": "execute_result"
    }
   ],
   "source": [
    "class SomeClass(object):\n",
    "    pass\n",
    "\n",
    "def squareMethod(self, x):\n",
    "    return x*x\n",
    "\n",
    "SomeClass.square = squareMethod\n",
    "obj = SomeClass()\n",
    "obj.square(5) # 25"
   ]
  },
  {
   "cell_type": "markdown",
   "id": "ed2246d9-469b-4dd4-bace-82aae2d04ef8",
   "metadata": {},
   "source": [
    "### Статические и классовые методы\n",
    "Для создания статических методов в Python предназначен декоратор @staticmethod. У них нет обязательных параметров-ссылок вроде self. Доступ к таким методам можно получить как из экземпляра класса, так и из самого  класса:"
   ]
  },
  {
   "cell_type": "code",
   "execution_count": 12,
   "id": "78e87202-7701-4bbf-8171-07dabb6cfeba",
   "metadata": {},
   "outputs": [
    {
     "name": "stdout",
     "output_type": "stream",
     "text": [
      "Hello, world\n",
      "Hello, world\n"
     ]
    }
   ],
   "source": [
    "class SomeClass(object):\n",
    "    @staticmethod\n",
    "    def hello():\n",
    "        print(\"Hello, world\")\n",
    "\n",
    "SomeClass.hello() # Hello, world\n",
    "obj = SomeClass()\n",
    "obj.hello() # Hello, world"
   ]
  },
  {
   "cell_type": "markdown",
   "id": "6c680487-4b5e-4f51-a618-2a1760e4bf71",
   "metadata": {},
   "source": [
    "Еще есть так называемые методы классов. Они аналогичны методам экземпляров, но выполняются не в контексте объекта, а в контексте самого класса  (классы – это тоже объекты). Такие методы создаются с помощью декоратора @classmethod и требуют обязательную ссылку на класс (cls)."
   ]
  },
  {
   "cell_type": "code",
   "execution_count": 11,
   "id": "697ae748-d471-43fd-ac85-c786d216fa7f",
   "metadata": {},
   "outputs": [
    {
     "ename": "SyntaxError",
     "evalue": "invalid syntax (1012529472.py, line 1)",
     "output_type": "error",
     "traceback": [
      "\u001b[1;36m  Cell \u001b[1;32mIn[11], line 1\u001b[1;36m\u001b[0m\n\u001b[1;33m    lass SomeClass(object):\u001b[0m\n\u001b[1;37m         ^\u001b[0m\n\u001b[1;31mSyntaxError\u001b[0m\u001b[1;31m:\u001b[0m invalid syntax\n"
     ]
    }
   ],
   "source": [
    "lass SomeClass(object):\n",
    "    @classmethod\n",
    "    def hello(cls):\n",
    "        print('Hello, класс {}'.format(cls.__name__))\n",
    "\n",
    "SomeClass.hello() # Hello, класс SomeClass"
   ]
  },
  {
   "cell_type": "markdown",
   "id": "442c97fd-c6d9-43e4-83b8-82ea0f2e4cfd",
   "metadata": {},
   "source": [
    "Статические и классовые методы доступны без инстанцирования.\n",
    "\n",
    "### Специальные методы\n",
    "### Жизненный цикл объекта\n",
    "С инициализатором объектов __init__ вы уже знакомы. Кроме него есть еще и метод __new__, который непосредственно создает новый экземпляр класса. Первым параметром он принимает ссылку на сам класс:"
   ]
  },
  {
   "cell_type": "code",
   "execution_count": 13,
   "id": "c3736790-7998-4241-a234-732e54c2fa57",
   "metadata": {},
   "outputs": [
    {
     "name": "stdout",
     "output_type": "stream",
     "text": [
      "new\n",
      "init\n"
     ]
    }
   ],
   "source": [
    "class SomeClass(object):\n",
    "    def __new__(cls):\n",
    "        print(\"new\")\n",
    "        return super(SomeClass, cls).__new__(cls)\n",
    "\n",
    "    def __init__(self):\n",
    "        print(\"init\")\n",
    "\n",
    "obj = SomeClass();\n",
    "# new\n",
    "# init"
   ]
  },
  {
   "cell_type": "markdown",
   "id": "1e9b2c25-abde-4a7e-9e75-7119e056998f",
   "metadata": {},
   "source": [
    "Метод __new__ может быть очень полезен для решения ряда задач, например, создания иммутабельных объектов или реализации паттерна Синглтон:\n",
    "\n",
    "P.S. Одиночка (англ. Singleton) — порождающий шаблон проектирования, гарантирующий, что в однопоточном приложении будет единственный экземпляр некоторого класса, и предоставляющий глобальную точку доступа к этому экземпляру."
   ]
  },
  {
   "cell_type": "code",
   "execution_count": 14,
   "id": "43eac2f9-3ddc-43cf-aa49-d8c42466d0c8",
   "metadata": {},
   "outputs": [
    {
     "ename": "IndentationError",
     "evalue": "expected an indented block after function definition on line 4 (3360368550.py, line 5)",
     "output_type": "error",
     "traceback": [
      "\u001b[1;36m  Cell \u001b[1;32mIn[14], line 5\u001b[1;36m\u001b[0m\n\u001b[1;33m    if cls.obj is None:\u001b[0m\n\u001b[1;37m    ^\u001b[0m\n\u001b[1;31mIndentationError\u001b[0m\u001b[1;31m:\u001b[0m expected an indented block after function definition on line 4\n"
     ]
    }
   ],
   "source": [
    "class Singleton(object):\n",
    "    obj = None # единственный экземпляр класса\n",
    "\n",
    "    def __new__(cls, *args, **kwargs):\n",
    "    if cls.obj is None:\n",
    "        cls.obj = object.__new__(cls, *args, **kwargs)\n",
    "    return cls.obj\n",
    "\n",
    "single = Singleton()\n",
    "single.attr = 42\n",
    "newSingle = Singleton()\n",
    "newSingle.attr # 42\n",
    "newSingle is single # true"
   ]
  },
  {
   "cell_type": "markdown",
   "id": "edea174a-6e1c-4b90-a67c-47b1787b7c5e",
   "metadata": {},
   "source": [
    "В Python вы можете поучаствовать не только в создании объекта, но и в его удалении. Специально для этого предназначен метод-деструктор __del__."
   ]
  },
  {
   "cell_type": "code",
   "execution_count": 15,
   "id": "472ee527-f072-49a4-8a6d-b9bd0b0df1cd",
   "metadata": {},
   "outputs": [
    {
     "name": "stdout",
     "output_type": "stream",
     "text": [
      "удаляется объект John класса SomeClass\n"
     ]
    }
   ],
   "source": [
    "class SomeClass(object):\n",
    "    def __init__(self, name):\n",
    "        self.name = name\n",
    "\n",
    "    def __del__(self):\n",
    "        print('удаляется объект {} класса SomeClass'.format(self.name))\n",
    "\n",
    "obj = SomeClass(\"John\");\n",
    "del obj # удаляется объект John класса SomeClass"
   ]
  },
  {
   "cell_type": "markdown",
   "id": "81b23b7d-4e67-4950-a769-0e18ff2ac7e4",
   "metadata": {},
   "source": [
    "На практике деструктор используется редко, в основном для тех ресурсов, которые требуют явного освобождения памяти при удалении объекта. Не следует совершать в нем сложные вычисления.\n",
    "\n",
    "## Объект как функция\n",
    "Объект класса может имитировать стандартную функцию, то есть при желании его можно \"вызвать\" с параметрами. За эту возможность отвечает специальный метод __call__:"
   ]
  },
  {
   "cell_type": "code",
   "execution_count": 2,
   "id": "3189e836-5441-4238-bbc1-7830878e5f39",
   "metadata": {},
   "outputs": [
    {
     "data": {
      "text/plain": [
       "361"
      ]
     },
     "execution_count": 2,
     "metadata": {},
     "output_type": "execute_result"
    }
   ],
   "source": [
    "class Multiplier:\n",
    "    def __call__(self, x, y):\n",
    "        return x*y\n",
    "\n",
    "multiply = Multiplier()\n",
    "multiply(19, 19) # 361\n",
    "# то же самое\n",
    "multiply.__call__(19, 19) # 361"
   ]
  },
  {
   "cell_type": "markdown",
   "id": "2af0226b-f42c-4190-8b5e-2dd56367c5cf",
   "metadata": {},
   "source": [
    "### Имитация контейнеров\n",
    "Вы знакомы с функцией len(), которая умеет вычислять длину списков значений?"
   ]
  },
  {
   "cell_type": "code",
   "execution_count": 16,
   "id": "24585063-8128-4cac-a2c9-945958b19b6d",
   "metadata": {},
   "outputs": [
    {
     "data": {
      "text/plain": [
       "2"
      ]
     },
     "execution_count": 16,
     "metadata": {},
     "output_type": "execute_result"
    }
   ],
   "source": [
    "list = ['hello', 'world']\n",
    "len(list) # 2"
   ]
  },
  {
   "cell_type": "markdown",
   "id": "97c4fd9c-589e-458f-a6c1-8a34e6c1c263",
   "metadata": {},
   "source": [
    "Но для объектов вашего пользовательского класса это не пройдет:"
   ]
  },
  {
   "cell_type": "code",
   "execution_count": 17,
   "id": "fbc7a27c-e2bf-4a5a-8bb9-918d0c3a76ce",
   "metadata": {},
   "outputs": [
    {
     "ename": "TypeError",
     "evalue": "object of type 'Collection' has no len()",
     "output_type": "error",
     "traceback": [
      "\u001b[1;31m---------------------------------------------------------------------------\u001b[0m",
      "\u001b[1;31mTypeError\u001b[0m                                 Traceback (most recent call last)",
      "Cell \u001b[1;32mIn[17], line 6\u001b[0m\n\u001b[0;32m      3\u001b[0m         \u001b[38;5;28mself\u001b[39m\u001b[38;5;241m.\u001b[39mlist \u001b[38;5;241m=\u001b[39m \u001b[38;5;28mlist\u001b[39m\n\u001b[0;32m      5\u001b[0m collection \u001b[38;5;241m=\u001b[39m Collection(\u001b[38;5;28mlist\u001b[39m)\n\u001b[1;32m----> 6\u001b[0m \u001b[38;5;28;43mlen\u001b[39;49m\u001b[43m(\u001b[49m\u001b[43mcollection\u001b[49m\u001b[43m)\u001b[49m\n",
      "\u001b[1;31mTypeError\u001b[0m: object of type 'Collection' has no len()"
     ]
    }
   ],
   "source": [
    "class Collection:\n",
    "    def __init__(self, list):\n",
    "        self.list = list\n",
    "\n",
    "collection = Collection(list)\n",
    "len(collection)"
   ]
  },
  {
   "cell_type": "markdown",
   "id": "5a9a07e9-dd42-44bf-bbff-4c98443d7dfc",
   "metadata": {},
   "source": [
    "Этот код выдаст ошибку object of type 'Collection' has no len(). Интерпретатор просто не понимает, как ему посчитать длину collection.\n",
    "\n",
    "Решить эту проблему поможет специальный метод __len__:"
   ]
  },
  {
   "cell_type": "code",
   "execution_count": 18,
   "id": "7dd60d77-d297-40a2-9781-480e2a92fc01",
   "metadata": {},
   "outputs": [
    {
     "data": {
      "text/plain": [
       "3"
      ]
     },
     "execution_count": 18,
     "metadata": {},
     "output_type": "execute_result"
    }
   ],
   "source": [
    "class Collection:\n",
    "    def __init__(self, list):\n",
    "        self.list = list\n",
    "\n",
    "    def __len__(self):\n",
    "        return len(self.list)\n",
    "\n",
    "collection = Collection([1, 2, 3])\n",
    "len(collection) # 3"
   ]
  },
  {
   "cell_type": "markdown",
   "id": "6201c304-fa1e-4016-b9dd-c0ffab09d68f",
   "metadata": {},
   "source": [
    "Можно работать с объектом как с коллекцией значений, определив для него интерфейс классического списка с помощью специальных методов:\n",
    "\n",
    "__getItem__ – реализация синтаксиса obj[key], получение значения по ключу;\n",
    "__setItem__ – установка значения для ключа;\n",
    "__delItem__ – удаление значения;\n",
    "__contains__ – проверка наличия значения.\n",
    "Имитация числовых типов\n",
    "Ваши объекты могут участвовать в математических операциях, если у них определены  специальные методы. Например, __mul__ позволяет умножать объект на число по определенной программистом логике:"
   ]
  },
  {
   "cell_type": "code",
   "execution_count": 19,
   "id": "9ac11e7e-0b7a-417f-999d-9fa7944b4e88",
   "metadata": {},
   "outputs": [
    {
     "name": "stdout",
     "output_type": "stream",
     "text": [
      "4200\n"
     ]
    }
   ],
   "source": [
    "class SomeClass:\n",
    "    def __init__(self, value):\n",
    "        self.value = value\n",
    "\n",
    "    def __mul__(self, number):\n",
    "        return self.value*number\n",
    "\n",
    "obj = SomeClass(42)\n",
    "print(obj * 100) # 4200"
   ]
  },
  {
   "cell_type": "markdown",
   "id": "149e6b48-a186-4e46-b09d-d94591c4efdb",
   "metadata": {},
   "source": [
    "## Другие специальные методы\n",
    "В Python существует огромное количество специальных методов, расширяющих возможности пользовательских классов. Например, можно определить вид объекта на печати, его \"официальное\" строковое представление или поведение при сравнениях. Узнать о них подробнее вы можете в официальной документации языка - https://docs.python.org/3.7/reference/datamodel.html?highlight=getitem#special-method-names \n",
    "\n",
    "Эти методы могут эмулировать поведение встроенных классов, но при этом они необязательно существуют у самих встроенных классов. Например, у объектов int при сложении не вызывается метод __add__. Таким образом, их нельзя переопределить."
   ]
  },
  {
   "cell_type": "markdown",
   "id": "e22e52fd-4a99-4e92-9208-279379295024",
   "metadata": {},
   "source": [
    "### Принципы ООП на Python\n",
    "Рассмотрим \"большую тройку\" объектно-ориентированной концепции: инкапсуляцию, полиморфизм и наследование.\n",
    "\n",
    "### Инкапсуляция\n",
    "Все объекты в Python инкапсулируют внутри себя данные и методы работы с ними, предоставляя публичные интерфейсы для взаимодействия.\n",
    "\n",
    "Атрибут может быть объявлен приватным (внутренним) с помощью нижнего подчеркивания перед именем, но настоящего скрытия на самом деле не происходит – все на уровне соглашений."
   ]
  },
  {
   "cell_type": "code",
   "execution_count": 1,
   "id": "21a6406e-4ac1-497e-9d50-55d4a99fac8b",
   "metadata": {},
   "outputs": [
    {
     "name": "stdout",
     "output_type": "stream",
     "text": [
      "Это внутренний метод объекта\n"
     ]
    }
   ],
   "source": [
    "class SomeClass:\n",
    "    def _private(self):\n",
    "        print(\"Это внутренний метод объекта\")\n",
    "\n",
    "obj = SomeClass()\n",
    "obj._private() # это внутренний метод объекта"
   ]
  },
  {
   "cell_type": "markdown",
   "id": "703df7e5-795f-4d60-b3c5-43bbc5a4d982",
   "metadata": {},
   "source": [
    "Если поставить перед именем атрибута два подчеркивания, к нему нельзя будет обратиться напрямую. Но все равно остается обходной путь:"
   ]
  },
  {
   "cell_type": "code",
   "execution_count": 2,
   "id": "dfe1d158-8017-4517-ac3b-dbeab5744dc6",
   "metadata": {},
   "outputs": [
    {
     "ename": "AttributeError",
     "evalue": "'SomeClass' object has no attribute '__param'",
     "output_type": "error",
     "traceback": [
      "\u001b[1;31m---------------------------------------------------------------------------\u001b[0m",
      "\u001b[1;31mAttributeError\u001b[0m                            Traceback (most recent call last)",
      "Cell \u001b[1;32mIn[2], line 6\u001b[0m\n\u001b[0;32m      3\u001b[0m         \u001b[38;5;28mself\u001b[39m\u001b[38;5;241m.\u001b[39m__param \u001b[38;5;241m=\u001b[39m \u001b[38;5;241m42\u001b[39m \u001b[38;5;66;03m# защищенный атрибут\u001b[39;00m\n\u001b[0;32m      5\u001b[0m obj \u001b[38;5;241m=\u001b[39m SomeClass()\n\u001b[1;32m----> 6\u001b[0m \u001b[43mobj\u001b[49m\u001b[38;5;241;43m.\u001b[39;49m\u001b[43m__param\u001b[49m \u001b[38;5;66;03m# AttributeError: 'SomeClass' object has no attribute '__param'\u001b[39;00m\n\u001b[0;32m      7\u001b[0m obj\u001b[38;5;241m.\u001b[39m_SomeClass__param \u001b[38;5;66;03m# 42\u001b[39;00m\n",
      "\u001b[1;31mAttributeError\u001b[0m: 'SomeClass' object has no attribute '__param'"
     ]
    }
   ],
   "source": [
    "class SomeClass():\n",
    "    def __init__(self):\n",
    "        self.__param = 42 # защищенный атрибут\n",
    "\n",
    "obj = SomeClass()\n",
    "obj.__param # AttributeError: 'SomeClass' object has no attribute '__param'\n",
    "obj._SomeClass__param # 42"
   ]
  },
  {
   "cell_type": "markdown",
   "id": "71877d9b-dace-49c8-a22e-234ee71304fa",
   "metadata": {},
   "source": [
    "Специальные свойства и методы класса, некоторые из которых вам уже знакомы, имеют двойные подчеркивания до и после имени.\n",
    "\n",
    "Кроме прямого доступа к атрибутам (obj.attrName), могут быть использованы специальные методы доступа (геттеры, сеттеры и деструкторы):"
   ]
  },
  {
   "cell_type": "code",
   "execution_count": 3,
   "id": "36828f33-91f9-4d24-9a6e-61570358763f",
   "metadata": {},
   "outputs": [
    {
     "name": "stdout",
     "output_type": "stream",
     "text": [
      "42\n"
     ]
    }
   ],
   "source": [
    "class SomeClass():\n",
    "    def __init__(self, value):\n",
    "        self._value = value\n",
    "\n",
    "    def getvalue(self): # получение значения атрибута\n",
    "        return self._value\n",
    "\n",
    "    def setvalue(self, value): # установка значения атрибута\n",
    "        self._value = value\n",
    "\n",
    "    def delvalue(self): # удаление атрибута\n",
    "        del self._value\n",
    "\n",
    "    value = property(getvalue, setvalue, delvalue, \"Свойство value\")\n",
    "\n",
    "obj = SomeClass(42)\n",
    "print(obj.value)\n",
    "obj.value = 43"
   ]
  },
  {
   "cell_type": "markdown",
   "id": "9ca018f5-d599-4976-84c3-2e2e3938524f",
   "metadata": {},
   "source": [
    "Такой подход очень удобен, если получение или установка значения атрибута требует сложной логики.\n",
    "\n",
    "Вместо того чтобы вручную создавать геттеры и сеттеры для каждого атрибута, можно перегрузить встроенные методы __getattr__, __setattr__ и __delattr__. Например, так можно перехватить обращение к свойствам и методам, которых в объекте не существует:"
   ]
  },
  {
   "cell_type": "code",
   "execution_count": 16,
   "id": "bfc28870-0f2b-4ca7-ab76-083396a4ce7e",
   "metadata": {},
   "outputs": [
    {
     "data": {
      "text/plain": [
       "'ATTR2'"
      ]
     },
     "execution_count": 16,
     "metadata": {},
     "output_type": "execute_result"
    }
   ],
   "source": [
    "class SomeClass():\n",
    "    attr1 = 42\n",
    "\n",
    "    def __getattr__(self, attr):\n",
    "        return attr.upper()\n",
    "\n",
    "obj = SomeClass()\n",
    "obj.attr1 # 42 &nbsp;&nbsp;\n",
    "obj.attr2 # ATTR2"
   ]
  },
  {
   "cell_type": "markdown",
   "id": "9070f019-f355-4051-8374-d2fbdcd08d4a",
   "metadata": {},
   "source": [
    "__getattribute__ перехватывает все обращения (в том числе и к существующим атрибутам):"
   ]
  },
  {
   "cell_type": "code",
   "execution_count": 17,
   "id": "b87e1f38-bbce-4b00-a96f-7c4873bd8c11",
   "metadata": {},
   "outputs": [
    {
     "data": {
      "text/plain": [
       "'ATTR2'"
      ]
     },
     "execution_count": 17,
     "metadata": {},
     "output_type": "execute_result"
    }
   ],
   "source": [
    "class SomeClass():\n",
    "    attr1 = 42\n",
    "\n",
    "    def __getattribute__(self, attr):\n",
    "        return attr.upper()\n",
    "\n",
    "obj = SomeClass()\n",
    "obj.attr1 # ATTR1\n",
    "obj.attr2 # ATTR2"
   ]
  },
  {
   "cell_type": "markdown",
   "id": "3f6098d6-ce02-4179-b543-89e1ce31a909",
   "metadata": {},
   "source": [
    "Таким образом, можно организовать динамический доступ к методам и свойствам объекта, как действуют, например,  RPC-системы.\n",
    "\n",
    "*Удалённый вызов процедур (иногда вызов удалённых процедур; RPC от англ. remote procedure call) — класс технологий, позволяющих программам вызывать функции или процедуры в другом адресном пространстве (на удалённых узлах либо в независимой сторонней системе на том же узле).\n",
    "\n",
    "## Наследование\n",
    "Язык программирования Python реализует как стандартное одиночное наследование:"
   ]
  },
  {
   "cell_type": "code",
   "execution_count": 18,
   "id": "06c8a459-8734-44fd-85ac-9947642b379e",
   "metadata": {},
   "outputs": [
    {
     "data": {
      "text/plain": [
       "'Mammal'"
      ]
     },
     "execution_count": 18,
     "metadata": {},
     "output_type": "execute_result"
    }
   ],
   "source": [
    "class Mammal():\n",
    "    className = 'Mammal'\n",
    "\n",
    "class Dog(Mammal):\n",
    "    species = 'Canis lupus'\n",
    "\n",
    "dog = Dog()\n",
    "dog.className # Mammal"
   ]
  },
  {
   "cell_type": "markdown",
   "id": "bff643d9-3d9a-4d16-97c8-5f8c4f78a101",
   "metadata": {},
   "source": [
    "так и множественное:"
   ]
  },
  {
   "cell_type": "code",
   "execution_count": 19,
   "id": "ae7abfad-9ddf-4a91-b517-b2be1aaa2516",
   "metadata": {},
   "outputs": [
    {
     "ename": "IndentationError",
     "evalue": "expected an indented block after class definition on line 7 (1924268399.py, line 8)",
     "output_type": "error",
     "traceback": [
      "\u001b[0;36m  Cell \u001b[0;32mIn[19], line 8\u001b[0;36m\u001b[0m\n\u001b[0;31m    mule = Mule()\u001b[0m\n\u001b[0m    ^\u001b[0m\n\u001b[0;31mIndentationError\u001b[0m\u001b[0;31m:\u001b[0m expected an indented block after class definition on line 7\n"
     ]
    }
   ],
   "source": [
    "class Horse():\n",
    "    isHorse = True\n",
    "\n",
    "class Donkey():\n",
    "    isDonkey = True\n",
    "\n",
    "class Mule(Horse, Donkey):\n",
    "mule = Mule()\n",
    "mule.isHorse # True\n",
    "mule.isDonkey # True"
   ]
  },
  {
   "cell_type": "markdown",
   "id": "b7386d96-ec61-4df6-afdd-d8df4d224ca9",
   "metadata": {},
   "source": [
    "Используя множественное наследования можно создавать классы-миксины (примеси), представляющие собой определенную особенность поведения. Такой микси можно \"примешать\" к любому классу.\n",
    "\n",
    "## Ассоциация\n",
    "Кроме наследования, существует и другой способ организации межклассового взаимодействия – ассоциация (агрегация или композиция), при которой один класс является полем другого.\n",
    "\n",
    "Пример композиции:"
   ]
  },
  {
   "cell_type": "code",
   "execution_count": 20,
   "id": "7f7c8ea1-abe4-4576-8ebb-2c11af11e2a4",
   "metadata": {},
   "outputs": [],
   "source": [
    "class Salary:\n",
    "    def __init__(self,pay):\n",
    "        self.pay = pay\n",
    "\n",
    "    def getTotal(self):\n",
    "        return (self.pay*12)\n",
    "\n",
    "class Employee:\n",
    "    def __init__(self,pay,bonus):\n",
    "        self.pay = pay\n",
    "        self.bonus = bonus\n",
    "        self.salary = Salary(self.pay)\n",
    "\n",
    "    def annualSalary(self):\n",
    "        return \"Total: \" + str(self.salary.getTotal() + self.bonus)"
   ]
  },
  {
   "cell_type": "markdown",
   "id": "85f47aa3-d1c6-49e0-a7e1-4f16a9ac44ee",
   "metadata": {},
   "source": [
    "Пример агрегации:"
   ]
  },
  {
   "cell_type": "code",
   "execution_count": 21,
   "id": "2bcf165a-8f66-4ee5-a15e-7d931a91a311",
   "metadata": {},
   "outputs": [
    {
     "name": "stdout",
     "output_type": "stream",
     "text": [
      "Total: 1210\n"
     ]
    }
   ],
   "source": [
    "class Salary(object):\n",
    "    def __init__(self, pay):\n",
    "        self.pay = pay\n",
    "\n",
    "    def getTotal(self):\n",
    "        return (self.pay * 12)\n",
    "\n",
    "class Employee(object):\n",
    "    def __init__(self, pay, bonus):\n",
    "        self.pay = pay\n",
    "        self.bonus = bonus\n",
    "\n",
    "    def annualSalary(self):\n",
    "        return \"Total: \" + str(self.pay.getTotal() + self.bonus)\n",
    "\n",
    "salary = Salary(100)\n",
    "employee = Employee(salary, 10)\n",
    "print(employee.annualSalary())"
   ]
  },
  {
   "cell_type": "markdown",
   "id": "67638a6f-0237-4b3b-bdbd-5a23335cc725",
   "metadata": {},
   "source": [
    "Ассоциированные объекты могут циклически ссылаться друг на друга, что ломает стандартный механизм сборки мусора. Избежать подобных проблем при ассоциации помогают слабые ссылки (модуль weakref).\n",
    "\n",
    "## Полиморфизм\n",
    "Концепция полиморфизма – важная часть ООП на Python. Все методы в языке изначально виртуальные. Это значит, что дочерние классы могут их переопределять и решать одну и ту же задачу разными путями, а конкретная реализация будет выбрана только во время исполнения программы. Такие классы называют полиморфными."
   ]
  },
  {
   "cell_type": "code",
   "execution_count": 22,
   "id": "978430b1-a02a-44a3-b9d9-6e8c60c00ea7",
   "metadata": {},
   "outputs": [
    {
     "name": "stdout",
     "output_type": "stream",
     "text": [
      "Двигается\n",
      "Прыгает\n"
     ]
    }
   ],
   "source": [
    "class Mammal:\n",
    "    def move(self):\n",
    "        print('Двигается')\n",
    "\n",
    "class Hare(Mammal):\n",
    "    def move(self):\n",
    "        print('Прыгает')\n",
    "\n",
    "animal = Mammal()\n",
    "animal.move() # Двигается\n",
    "hare = Hare()\n",
    "hare.move() # Прыгает"
   ]
  },
  {
   "cell_type": "markdown",
   "id": "a21985bf-3e0f-42c7-ba35-16b696121cf1",
   "metadata": {},
   "source": [
    "Впрочем, можно получить и доступ к методам класса-предка либо по прямому обращению, либо с помощью функции super:"
   ]
  },
  {
   "cell_type": "code",
   "execution_count": 23,
   "id": "6f23cd4d-d960-4011-b6db-8989cb2fb967",
   "metadata": {},
   "outputs": [
    {
     "name": "stdout",
     "output_type": "stream",
     "text": [
      "Parent init\n",
      "Parent method\n"
     ]
    }
   ],
   "source": [
    "class Parent():\n",
    "    def __init__(self):\n",
    "        print('Parent init')\n",
    "\n",
    "    def method(self):\n",
    "        print('Parent method')\n",
    "\n",
    "class Child(Parent):\n",
    "    def __init__(self):\n",
    "        Parent.__init__(self)\n",
    "\n",
    "    def method(self):\n",
    "        super(Child, self).method()\n",
    "\n",
    "child = Child() # Parent init\n",
    "\n",
    "child.method() # Parent method"
   ]
  },
  {
   "cell_type": "markdown",
   "id": "de103b48-c7e8-4fb5-a3ac-066e13559e37",
   "metadata": {},
   "source": [
    "Одинаковый интерфейс с разной реализацией могут иметь и классы, не связанные родственными узами. В следующем примере код может одинаково удобно работать с классами English и French, так как они обладают одинаковым интерфейсом:"
   ]
  },
  {
   "cell_type": "code",
   "execution_count": 24,
   "id": "b6561165-7b39-4bd9-8ee9-27020c7edd1a",
   "metadata": {},
   "outputs": [
    {
     "name": "stdout",
     "output_type": "stream",
     "text": [
      "Hello\n",
      "Bonjour\n"
     ]
    }
   ],
   "source": [
    "class English:\n",
    "  def greeting(self):\n",
    "    print (\"Hello\")\n",
    "\n",
    "class French:\n",
    "  def greeting(self):\n",
    "    print (\"Bonjour\")\n",
    "\n",
    "def intro(language):\n",
    "  language.greeting()\n",
    "\n",
    "john = English()\n",
    "gerard = French()\n",
    "intro(john) # Hello\n",
    "intro(gerard) # Bonjour"
   ]
  },
  {
   "cell_type": "markdown",
   "id": "29848523-ecba-4347-9291-8524917fa00a",
   "metadata": {},
   "source": [
    "Это возможно благодаря утиной типизации.\n",
    "\n",
    "## Множественная диспетчеризация\n",
    "Виртуальные методы обеспечивают одиночную диспетчеризацию, при которой выбор конкретного метода зависит от объекта, в контексте которого произошел вызов. Мультиметоды позволяют выбирать нужную функциональность в зависимости от количества, типов или значений аргументов.\n",
    "\n",
    "Программирование на Python не поддерживает мультиметоды из коробки, поэтому для их реализации необходимо подключать сторонние Python библиотеки, например, multimethods.py.\n",
    "\n",
    "## Порядок разрешения доступа к атрибутам\n",
    "Складывается достаточно интересная картина: у одного объекта может быть несколько родительских классов, а также специальные методы вроде __getattribute__, которые перехватывают запросы к атрибутам.\n",
    "\n",
    "Каким же образом интерпретатор разрешает сложные запросы к свойствам и методам? Рассмотрим последовательность поиска на примере запроса obj.field:\n",
    "\n",
    "Вызов obj.__getattribute__('field'), если он определен. При установке или удалении атрибута проверяется соответственно наличие __setattr__ или __delattr__.\n",
    "Поиск в obj.__dict__ (пользовательские атрибуты).\n",
    "Поиск в object.__class__.__slots__.\n",
    "Рекурсивный поиск в поле __dict__ всех родительских классов. Если класс имеет несколько предков, порядок проверки соответствует порядку их перечисления в определении.\n",
    "Если определен метод __getattr__, то происходит вызов obj.__getattr__('field')\n",
    "Выбрасывается исключение несуществующего атрибута – AttributeError.\n",
    "Наконец, когда атрибут нашелся, проверяется наличие метода __get__ (при установке – __set__, при удалении – __delete__).\n",
    "\n",
    "Все эти проверки совершаются только для пользовательских атрибутов.\n",
    "\n",
    "## Метаклассы\n",
    "\n",
    "Метаклассы – это классы, инстансы которых тоже являются классами."
   ]
  },
  {
   "cell_type": "code",
   "execution_count": 25,
   "id": "063af10f-2a89-4994-af6b-6768389315a7",
   "metadata": {},
   "outputs": [
    {
     "name": "stdout",
     "output_type": "stream",
     "text": [
      "Создание нового класса SomeClass\n",
      "Инициализация нового класса SomeClass\n",
      "Создание нового класса Child\n",
      "Инициализация нового класса Child\n",
      "Hello\n"
     ]
    }
   ],
   "source": [
    "class MetaClass(type):\n",
    "    # выделение памяти для класса\n",
    "    def __new__(cls, name, bases, dict):\n",
    "        print(\"Создание нового класса {}\".format(name))\n",
    "        return type.__new__(cls, name, bases, dict)\n",
    "\n",
    "    # инициализация класса\n",
    "    def __init__(cls, name, bases, dict):\n",
    "        print(\"Инициализация нового класса {}\".format(name))\n",
    "        return super(MetaClass, cls).__init__(name, bases, dict)\n",
    "\n",
    "# порождение класса на основе метакласса\n",
    "SomeClass = MetaClass(\"SomeClass\", (), {})\n",
    "\n",
    "# обычное наследование\n",
    "class Child(SomeClass):\n",
    "    def __init__(self, param):\n",
    "        print(param)\n",
    "\n",
    "# получение экземпляра класса\n",
    "obj = Child(\"Hello\")"
   ]
  },
  {
   "cell_type": "markdown",
   "id": "de72faee-0f58-47db-bde6-1e71d2866f49",
   "metadata": {},
   "source": [
    "# ООП на Python\n",
    "Подведем краткий итог всему вышесказанному и выделим основные особенности реализации ООП на Python:\n",
    "\n",
    "### Классы в Python – это тоже объекты.\n",
    "### Допустимо динамическое изменение и добавление атрибутов классов.\n",
    "### Жизненным циклом объекта можно управлять.\n",
    "### Многие операторы могут быть перезагружены.\n",
    "### Многие методы встроенных объектов можно эмулировать.\n",
    "### Для скрытия внутренних данных используются синтаксические соглашения.\n",
    "### Поддерживается наследование.\n",
    "### Полиморфизм обеспечивается виртуальностью всех методов.\n",
    "### Доступно метапрограммирование."
   ]
  },
  {
   "cell_type": "markdown",
   "id": "89ddb1e1-6d5a-4a0e-a970-1fcd31658ed0",
   "metadata": {},
   "source": [
    "# ПРИМЕРЫ"
   ]
  },
  {
   "cell_type": "markdown",
   "id": "f6eb4a33-285b-49fb-a63b-0b73a01004b1",
   "metadata": {},
   "source": [
    "Класс Car (автомобиль) имеет атрибуты make, model, year (марка, модель, год выпуска):"
   ]
  },
  {
   "cell_type": "code",
   "execution_count": 4,
   "id": "6dfc5b86-ce72-4fac-8a6a-4ea4236d6483",
   "metadata": {},
   "outputs": [],
   "source": [
    "class Car:\n",
    "    def __init__(self, make, model, year):\n",
    "        self.make = make\n",
    "        self.model = model\n",
    "        self.year = year"
   ]
  },
  {
   "cell_type": "markdown",
   "id": "a3274fe4-54e7-4475-bd47-4722cac527fe",
   "metadata": {},
   "source": [
    "Атрибуты – это свойства, характеристики объекта. Они определяют качества и состояние объекта. Атрибуты объекта перечисляют внутри__init__ метода класса – он вызывается каждый раз при создании экземпляра класса. Параметр self создает ссылку на экземпляр класса и позволяет получить доступ к атрибутам и методам объекта. Для создания экземпляра Car достаточно вызвать класс, передавая в скобках значения, соответствующие его атрибутам:"
   ]
  },
  {
   "cell_type": "code",
   "execution_count": 5,
   "id": "5089f2d0-b12d-4a6f-b01d-59c04aae8330",
   "metadata": {},
   "outputs": [],
   "source": [
    "my_car = Car(\"Toyota\", \"Corolla\", 2023)"
   ]
  },
  {
   "cell_type": "markdown",
   "id": "777c4be3-ef14-4c22-9c1d-4b3071738951",
   "metadata": {},
   "source": [
    "Теперь, когда атрибутам объекта присвоены значения, можно к ним обращаться – для этого используют выражение название_объекта.атрибут:"
   ]
  },
  {
   "cell_type": "code",
   "execution_count": 29,
   "id": "10e23f39-f25b-46e5-bfaa-850386024fac",
   "metadata": {},
   "outputs": [
    {
     "name": "stdout",
     "output_type": "stream",
     "text": [
      "Марка машины Toyota,\n",
      "модель Corolla,\n",
      "год выпуска - 2023\n"
     ]
    }
   ],
   "source": [
    "print(f'Марка машины {my_car.make},'\n",
    "      f'\\nмодель {my_car.model},'\n",
    "      f'\\nгод выпуска - {my_car.year}'\n",
    "      )"
   ]
  },
  {
   "cell_type": "markdown",
   "id": "bb41a4bc-8c24-4f21-b9b3-362b428825c9",
   "metadata": {},
   "source": [
    "Car – пример простейшего класса: у него нет ни подклассов, ни методов, кроме обязательного __init__. Метод – это функция, которая определяет поведение объекта. \n",
    "\n",
    "Создадим метод на примере класса WashingMachine – здесь методremaining_warranty_time() определяет срок истечения гарантии на стиральную машину:"
   ]
  },
  {
   "cell_type": "code",
   "execution_count": 30,
   "id": "7fd3349c-6237-4616-b9ad-de998446b992",
   "metadata": {},
   "outputs": [
    {
     "name": "stdout",
     "output_type": "stream",
     "text": [
      "Срок действия гарантии истекает через 651 дней.\n"
     ]
    }
   ],
   "source": [
    "import datetime\n",
    "\n",
    "class WashingMachine:\n",
    "    def __init__(self, brand, model, purchase_date, warranty_length):\n",
    "        self.brand = brand\n",
    "        self.model = model\n",
    "        self.purchase_date = purchase_date\n",
    "        self.warranty_length = warranty_length\n",
    "\n",
    "    def remaining_warranty_time(self):\n",
    "        today = datetime.date.today()\n",
    "        warranty_end_date = self.purchase_date + datetime.timedelta(days=self.warranty_length)\n",
    "        remaining_time = warranty_end_date - today\n",
    "        if remaining_time.days < 0:\n",
    "            return \"Срок действия гарантии истек.\"\n",
    "        else:\n",
    "            return \"Срок действия гарантии истекает через {} дней.\".format(remaining_time.days)\n",
    "\n",
    "# создаем объект стиральной машины\n",
    "my_washing_machine = WashingMachine(\"LG\", \"FH4U2VCN2\", datetime.date(2022, 5, 7), 1550)\n",
    "\n",
    "# вызываем метод для проверки срока истечения гарантии\n",
    "print(my_washing_machine.remaining_warranty_time())"
   ]
  },
  {
   "cell_type": "markdown",
   "id": "2184ec2c-0c94-4d21-99df-2d5519170a0c",
   "metadata": {},
   "source": [
    "Предположим, что нам нужно разработать CRM для автосалона. В ПО автосалона должен быть класс Vehicle (транспортное средство), который имеет набор атрибутов:\n",
    "\n",
    "марка;\n",
    "модель;\n",
    "год выпуска;\n",
    "стоимость.\n",
    "Среди методов должна быть операция display_info(), которая отображает информацию о конкретном транспортном средстве, а помимо классов, в ПО необходимо использовать подклассы.\n",
    "\n",
    "Подкласс – это класс, который наследует все атрибуты и методы родительского класса (также известного как базовый класс или суперкласс), но при этом может иметь дополнительные, свои собственные, атрибуты и методы. Концепцию наследования мы подробнее разберем ниже.\n",
    "\n",
    "В ПО для автосалона необходимо создать подкласс Car (легковой автомобиль), который наследует все атрибуты и методы класса Vehicle, и при этом имеет дополнительные атрибуты, например количество дверей и стиль кузова. Аналогично, мы можем создать подкласс Truck (грузовик), который наследует все атрибуты и методы класса Vehicle, и к тому же имеет свои атрибуты – длину кузова и тяговую мощность.\n",
    "\n",
    "В итоге, взаимодействие классов, подклассов и методов будет выглядеть так:"
   ]
  },
  {
   "cell_type": "code",
   "execution_count": 6,
   "id": "03a3f8f0-6237-43b7-8e21-75e1fef80e19",
   "metadata": {},
   "outputs": [],
   "source": [
    "class Vehicle:\n",
    "    def __init__(self, make, model, year, price):\n",
    "        self.make = make\n",
    "        self.model = model\n",
    "        self.year = year\n",
    "        self.price = price\n",
    "\n",
    "    def display_info(self):\n",
    "        print(f\"Марка: {self.make}\"\n",
    "        f\"\\nМодель: {self.model}\"\n",
    "        f\"\\nГод выпуска: {self.year}\"\n",
    "        f\"\\nСтоимость: {self.price} руб\")\n",
    "\n",
    "class Car(Vehicle):\n",
    "    def __init__(self, make, model, year, price, num_doors, body_style):\n",
    "        super().__init__(make, model, year, price)\n",
    "        self.num_doors = num_doors\n",
    "        self.body_style = body_style\n",
    "\n",
    "class Truck(Vehicle):\n",
    "    def __init__(self, make, model, year, price, bed_length, towing_capacity):\n",
    "        super().__init__(make, model, year, price)\n",
    "        self.bed_length = bed_length\n",
    "        self.towing_capacity = towing_capacity"
   ]
  },
  {
   "cell_type": "markdown",
   "id": "516054af-7ef0-4111-bc2e-172419aeec02",
   "metadata": {},
   "source": [
    "Создадим экземпляры классов и вызовем метод display_info() для вывода информации о них:"
   ]
  },
  {
   "cell_type": "code",
   "execution_count": 32,
   "id": "a2c553e4-056b-4f38-bcb7-5b22e5a110ac",
   "metadata": {},
   "outputs": [
    {
     "name": "stdout",
     "output_type": "stream",
     "text": [
      "Марка: Toyota\n",
      "Модель: Camry\n",
      "Год выпуска: 2022\n",
      "Стоимость: 2900000 руб\n",
      "Марка: Ford\n",
      "Модель: F-MAX\n",
      "Год выпуска: 2023\n",
      "Стоимость: 6000000 руб\n"
     ]
    }
   ],
   "source": [
    "# создаем объект \"легковой автомобиль\"\n",
    "car = Car(\"Toyota\", \"Camry\", 2022, 2900000, 4, \"седан\")\n",
    "\n",
    "# создаем объект \"грузовик\"\n",
    "truck = Truck(\"Ford\", \"F-MAX\", 2023, 6000000, \"6162\", \"13 т\")\n",
    "\n",
    "# выводим информацию о легковом автомобиле и грузовике\n",
    "car.display_info()\n",
    "truck.display_info()"
   ]
  },
  {
   "cell_type": "markdown",
   "id": "62834c03-b22b-459e-8d94-7638cf2a897d",
   "metadata": {},
   "source": [
    "В этом примере используется встроенная функция super(), которая позволяет вызывать методы родительского суперкласса из подкласса. Этот прием позволяет переиспользовать методы и расширять их функциональность. В данном случае вызывается метод инициализации super().__init__, который позволяет применить атрибуты суперкласса к подклассу. При необходимости, помимо унаследованных, можно определить новые свойства, которые относятся только к конкретному подклассу.\n",
    "\n",
    "Еще один пример – библиотечная программа для хранения информации о книгах и их статусах (есть в наличии, выдана абоненту, получена от абонента и так далее). Здесь класс Book определяет различные характеристики книги – title, author, ISBN, а также задает методы check_out() и check_in(), которые выдают / принимают книги, и сообщают о статусах:"
   ]
  },
  {
   "cell_type": "code",
   "execution_count": 33,
   "id": "5c44ae26-b166-4853-aa84-75d6af10612a",
   "metadata": {},
   "outputs": [],
   "source": [
    "class Book:\n",
    "    def __init__(self, title, author, isbn):\n",
    "        self.title = title\n",
    "        self.author = author\n",
    "        self.isbn = isbn\n",
    "        self.checked_out = False\n",
    "\n",
    "    def check_out(self):\n",
    "        if self.checked_out:\n",
    "            print(\"Книга находится у абонента.\")\n",
    "        else:\n",
    "            self.checked_out = True\n",
    "            print(\"Выдаем книгу абоненту.\")\n",
    "\n",
    "    def check_in(self):\n",
    "        if not self.checked_out:\n",
    "            print(\"Книга в наличии.\")\n",
    "        else:\n",
    "            self.checked_out = False\n",
    "            print(\"Принимаем книгу в библиотеку.\")"
   ]
  },
  {
   "cell_type": "markdown",
   "id": "7db23f4d-e535-4099-af6b-0211aa43bea1",
   "metadata": {},
   "source": [
    "Создадим объект книги и проверим статусы:"
   ]
  },
  {
   "cell_type": "code",
   "execution_count": 34,
   "id": "04274fe1-7bf4-4ff6-b723-c0d2eb8d3f0f",
   "metadata": {},
   "outputs": [
    {
     "name": "stdout",
     "output_type": "stream",
     "text": [
      "Выдаем книгу абоненту.\n",
      "Книга находится у абонента.\n",
      "Принимаем книгу в библиотеку.\n",
      "Книга в наличии.\n"
     ]
    }
   ],
   "source": [
    "# создаем объект книги\n",
    "book1 = Book(\"Война и мир\", \"Л.Н. Толстой\", \"978-0743273565\")\n",
    "\n",
    "# выдаем книгу, проверяем статус\n",
    "book1.check_out()\n",
    "\n",
    "# проверяем статус повторно\n",
    "book1.check_out()\n",
    "\n",
    "# принимаем книгу от читателя\n",
    "book1.check_in()\n",
    "\n",
    "# проверяем статус книги повторно\n",
    "book1.check_in()"
   ]
  },
  {
   "cell_type": "markdown",
   "id": "5930da45-ddc8-4047-8c1c-1b3384d0876d",
   "metadata": {},
   "source": [
    "Сделаем атрибуты title, author и isbn класса Book приватными – теперь доступ к ним возможен только внутри класса:"
   ]
  },
  {
   "cell_type": "code",
   "execution_count": 47,
   "id": "39a904bf-d585-4e3c-8771-55e9bd4daab2",
   "metadata": {},
   "outputs": [],
   "source": [
    "class Book:\n",
    "    def __init__(self, title, author, isbn):\n",
    "        self.__title = title  # приватный\n",
    "        self.__author = author  # приватный\n",
    "        self.__isbn = isbn  # приватный\n",
    "    def get_title(self):\n",
    "        return self.__title\n",
    "\n",
    "    def set_title(self, title):\n",
    "        self.__title = title\n",
    "\n",
    "    def get_author(self):\n",
    "        return self.__author\n",
    "\n",
    "    def set_author(self, author):\n",
    "        self.__author = author\n",
    "\n",
    "    def get_isbn(self):\n",
    "        return self.__isbn\n",
    "\n",
    "    def set_isbn(self, isbn):\n",
    "        self.__isbn = isbn"
   ]
  },
  {
   "cell_type": "markdown",
   "id": "440b41e8-ad27-4a8b-9e4c-2ab3d4a0538a",
   "metadata": {},
   "source": [
    "Чтобы получить доступ к этим атрибутам извне класса, мы определяем методы getter и setter, которые обеспечивают контролируемый доступ к атрибутам:"
   ]
  },
  {
   "cell_type": "markdown",
   "id": "25e2fb3f-ad5a-46d1-ac00-93cd824305b3",
   "metadata": {},
   "source": [
    "В этом примере методы get_title(), get_author() и get_isbn() являются получающими методами (геттерами), которые позволяют нам получать значения приватных атрибутов извне класса. Методы set_title(), set_author() и set_isbn() – устанавливающие методы (сеттеры), которые позволяют нам устанавливать значения частных атрибутов извне класса.\n",
    "\n",
    "Создадим экземпляр объекта и попытаемся получить доступ к его названию с помощью обычного метода:"
   ]
  },
  {
   "cell_type": "code",
   "execution_count": 48,
   "id": "511763b2-e094-4326-83ab-e22ee598585c",
   "metadata": {},
   "outputs": [
    {
     "ename": "AttributeError",
     "evalue": "'Book' object has no attribute '__title'",
     "output_type": "error",
     "traceback": [
      "\u001b[0;31m---------------------------------------------------------------------------\u001b[0m",
      "\u001b[0;31mAttributeError\u001b[0m                            Traceback (most recent call last)",
      "Cell \u001b[0;32mIn[48], line 4\u001b[0m\n\u001b[1;32m      1\u001b[0m book1 \u001b[38;5;241m=\u001b[39m Book(\u001b[38;5;124m\"\u001b[39m\u001b[38;5;124mТеррор\u001b[39m\u001b[38;5;124m\"\u001b[39m, \u001b[38;5;124m\"\u001b[39m\u001b[38;5;124mДэн Симмонс\u001b[39m\u001b[38;5;124m\"\u001b[39m, \u001b[38;5;124m\"\u001b[39m\u001b[38;5;124m558-0743553565\u001b[39m\u001b[38;5;124m\"\u001b[39m)\n\u001b[1;32m      3\u001b[0m \u001b[38;5;66;03m# пытаемся получить доступ к приватному атрибуту\u001b[39;00m\n\u001b[0;32m----> 4\u001b[0m \u001b[38;5;28mprint\u001b[39m(book1\u001b[38;5;241m.\u001b[39m__title)\n",
      "\u001b[0;31mAttributeError\u001b[0m: 'Book' object has no attribute '__title'"
     ]
    }
   ],
   "source": [
    "book1 = Book(\"Террор\", \"Дэн Симмонс\", \"558-0743553565\")\n",
    "\n",
    "# пытаемся получить доступ к приватному атрибуту\n",
    "print(book1.__title)"
   ]
  },
  {
   "cell_type": "code",
   "execution_count": 49,
   "id": "300814b7-9744-49c8-8190-ace890623556",
   "metadata": {},
   "outputs": [
    {
     "name": "stdout",
     "output_type": "stream",
     "text": [
      "Террор\n",
      "Дэн Симмонс\n",
      "558-0743553565\n"
     ]
    }
   ],
   "source": [
    "# получаем приватные атрибуты с помощью геттеров\n",
    "print(book1.get_title())\n",
    "print(book1.get_author())\n",
    "print(book1.get_isbn())"
   ]
  },
  {
   "cell_type": "code",
   "execution_count": 50,
   "id": "b8181ab0-bee7-44e8-b097-255bc98f9309",
   "metadata": {},
   "outputs": [
    {
     "name": "stdout",
     "output_type": "stream",
     "text": [
      "Эндимион\n"
     ]
    }
   ],
   "source": [
    "# изменяем название с помощью сеттера\n",
    "book1.set_title(\"Эндимион\")\n",
    "print(book1.get_title())"
   ]
  },
  {
   "cell_type": "markdown",
   "id": "448bfcef-4812-46dc-82f7-7474813edc0c",
   "metadata": {},
   "source": [
    "Создадим класс Publication, который имеет свойства, общие для всех публикаций – title, author и year, а также общий метод display()"
   ]
  },
  {
   "cell_type": "code",
   "execution_count": 51,
   "id": "5234295e-0e87-4672-9642-8866c1fc3a40",
   "metadata": {},
   "outputs": [],
   "source": [
    "class Publication:\n",
    "    def __init__(self, title, author, year):\n",
    "        self.title = title\n",
    "        self.author = author\n",
    "        self.year = year\n",
    "\n",
    "    def display(self):\n",
    "        print(\"Название:\", self.title)\n",
    "        print(\"Автор:\", self.author)\n",
    "        print(\"Год выпуска:\", self.year)"
   ]
  },
  {
   "cell_type": "markdown",
   "id": "4b7d1f45-88a7-4656-af55-d963451f23ac",
   "metadata": {},
   "source": [
    "Теперь создадим два подкласса Book и Magazine, которые наследуют все свойства и методы от класса Publication, и кроме того, имеют свои атрибуты. Подкласс Book добавляет свойство isbn и переопределяет метод display() для включения свойства isbn. Подкласс Magazine добавляет свойство issue_number (номер выпуска) и переопределяет методdisplay()для включения свойства issue_number:"
   ]
  },
  {
   "cell_type": "code",
   "execution_count": 52,
   "id": "3c313167-9de5-4976-b0f2-9f3f4162de5a",
   "metadata": {},
   "outputs": [],
   "source": [
    "class Book(Publication):\n",
    "    def __init__(self, title, author, year, isbn):\n",
    "        super().__init__(title, author, year)\n",
    "        self.isbn = isbn\n",
    "\n",
    "    def display(self):\n",
    "        super().display()\n",
    "        print(\"ISBN:\", self.isbn)\n",
    "\n",
    "class Magazine(Publication):\n",
    "    def __init__(self, title, author, year, issue_number):\n",
    "        super().__init__(title, author, year)\n",
    "        self.issue_number = issue_number\n",
    "\n",
    "    def display(self):\n",
    "        super().display()\n",
    "        print(\"Номер выпуска:\", self.issue_number)"
   ]
  },
  {
   "cell_type": "markdown",
   "id": "bf86a496-64e8-4599-b1a1-d486e6b48715",
   "metadata": {},
   "source": [
    "Теперь, если мы создадим экземпляр класса Book или класса Magazine, мы сможем вызвать метод display()для отображения свойств объекта. Сначала будет вызван метод display() подкласса (Book или Magazine), который в свою очередь вызовет метод display()суперкласса Publication с помощью функции super(). Это позволяет нам повторно использовать код суперкласса и избежать дублирования кода в подклассах:"
   ]
  },
  {
   "cell_type": "code",
   "execution_count": 53,
   "id": "ca152a4f-8ed7-4ca9-95c3-6e2150a91228",
   "metadata": {},
   "outputs": [
    {
     "name": "stdout",
     "output_type": "stream",
     "text": [
      "Название: Выбор\n",
      "Автор: Эдит Эгер\n",
      "Год выпуска: 2019\n",
      "ISBN: 112-3333273566\n",
      "Название: Вокруг света\n",
      "Автор: коллектив авторов\n",
      "Год выпуска: 2023\n",
      "Номер выпуска: 3\n"
     ]
    }
   ],
   "source": [
    "# создаем объект книги\n",
    "book1 = Book(\"Выбор\", \"Эдит Эгер\", 2019, \"112-3333273566\")\n",
    "\n",
    "# создаем объект выпуска журнала\n",
    "magazine1 = Magazine(\"Вокруг света\", \"коллектив авторов\", 2023, 3)\n",
    "\n",
    "# выводим информацию о книге и номере журнала\n",
    "book1.display()\n",
    "magazine1.display()"
   ]
  },
  {
   "cell_type": "markdown",
   "id": "f5d681f0-ca16-4c21-8bbf-adbf6fb1560c",
   "metadata": {},
   "source": [
    "# ЗАДАНИЯ:\n",
    "\n",
    "\n",
    "1. Напишите класс MusicAlbum, у которого есть:\n",
    "\n",
    "Атрибуты title, artist, release_year, genre, tracklist (название, исполнитель, год выхода, жанр, список треков.\n",
    "Метод play_random_track() для вывода случайного названия песни.\n",
    "\n",
    "Пример использования:"
   ]
  },
  {
   "cell_type": "code",
   "execution_count": 54,
   "id": "8eb283d9-f8df-46df-8138-3d64c84aeeed",
   "metadata": {},
   "outputs": [
    {
     "ename": "NameError",
     "evalue": "name 'MusicAlbum' is not defined",
     "output_type": "error",
     "traceback": [
      "\u001b[0;31m---------------------------------------------------------------------------\u001b[0m",
      "\u001b[0;31mNameError\u001b[0m                                 Traceback (most recent call last)",
      "Cell \u001b[0;32mIn[54], line 1\u001b[0m\n\u001b[0;32m----> 1\u001b[0m album4 \u001b[38;5;241m=\u001b[39m MusicAlbum(\u001b[38;5;124m\"\u001b[39m\u001b[38;5;124mDeutschland\u001b[39m\u001b[38;5;124m\"\u001b[39m, \u001b[38;5;124m\"\u001b[39m\u001b[38;5;124mRammstein\u001b[39m\u001b[38;5;124m\"\u001b[39m, \u001b[38;5;241m2019\u001b[39m, \u001b[38;5;124m\"\u001b[39m\u001b[38;5;124mNeue Deutsche Härte\u001b[39m\u001b[38;5;124m\"\u001b[39m, \n\u001b[1;32m      2\u001b[0m                     [\u001b[38;5;124m\"\u001b[39m\u001b[38;5;124mDeutschland\u001b[39m\u001b[38;5;124m\"\u001b[39m, \u001b[38;5;124m\"\u001b[39m\u001b[38;5;124mRadio\u001b[39m\u001b[38;5;124m\"\u001b[39m, \u001b[38;5;124m\"\u001b[39m\u001b[38;5;124mZeig dich\u001b[39m\u001b[38;5;124m\"\u001b[39m, \u001b[38;5;124m\"\u001b[39m\u001b[38;5;124mAusländer\u001b[39m\u001b[38;5;124m\"\u001b[39m, \u001b[38;5;124m\"\u001b[39m\u001b[38;5;124mSex\u001b[39m\u001b[38;5;124m\"\u001b[39m, \n\u001b[1;32m      3\u001b[0m                      \u001b[38;5;124m\"\u001b[39m\u001b[38;5;124mPuppe\u001b[39m\u001b[38;5;124m\"\u001b[39m, \u001b[38;5;124m\"\u001b[39m\u001b[38;5;124mWas ich liebe\u001b[39m\u001b[38;5;124m\"\u001b[39m, \u001b[38;5;124m\"\u001b[39m\u001b[38;5;124mDiamant\u001b[39m\u001b[38;5;124m\"\u001b[39m, \u001b[38;5;124m\"\u001b[39m\u001b[38;5;124mWeit weg\u001b[39m\u001b[38;5;124m\"\u001b[39m, \u001b[38;5;124m\"\u001b[39m\u001b[38;5;124mTattoo\u001b[39m\u001b[38;5;124m\"\u001b[39m, \n\u001b[1;32m      4\u001b[0m                      \u001b[38;5;124m\"\u001b[39m\u001b[38;5;124mHallomann\u001b[39m\u001b[38;5;124m\"\u001b[39m])\n\u001b[1;32m      5\u001b[0m \u001b[38;5;28mprint\u001b[39m(\u001b[38;5;124m\"\u001b[39m\u001b[38;5;124mНазвание:\u001b[39m\u001b[38;5;124m\"\u001b[39m, album4\u001b[38;5;241m.\u001b[39mtitle)\n\u001b[1;32m      6\u001b[0m \u001b[38;5;28mprint\u001b[39m(\u001b[38;5;124m\"\u001b[39m\u001b[38;5;124mИсполнитель:\u001b[39m\u001b[38;5;124m\"\u001b[39m, album4\u001b[38;5;241m.\u001b[39martist)\n",
      "\u001b[0;31mNameError\u001b[0m: name 'MusicAlbum' is not defined"
     ]
    }
   ],
   "source": [
    "album4 = MusicAlbum(\"Deutschland\", \"Rammstein\", 2019, \"Neue Deutsche Härte\", \n",
    "                    [\"Deutschland\", \"Radio\", \"Zeig dich\", \"Ausländer\", \"Sex\", \n",
    "                     \"Puppe\", \"Was ich liebe\", \"Diamant\", \"Weit weg\", \"Tattoo\", \n",
    "                     \"Hallomann\"])\n",
    "print(\"Название:\", album4.title)\n",
    "print(\"Исполнитель:\", album4.artist)\n",
    "print(\"Год:\", album4.release_year)\n",
    "print(\"Жанр:\", album4.genre)\n",
    "print(\"Треки:\", album4.tracklist)\n",
    "album4.play_random_track()"
   ]
  },
  {
   "cell_type": "markdown",
   "id": "078b5407-bee1-4467-a474-f971f0b82daa",
   "metadata": {},
   "source": [
    "2. Создайте класс Student, который имеет:\n",
    "\n",
    "атрибуты name, age, grade, scores (имя, возраст, класс, оценки);\n",
    "метод average_score – для вычисления среднего балла успеваемости.\n",
    "Пример использования:"
   ]
  },
  {
   "cell_type": "code",
   "execution_count": null,
   "id": "9736d5da-782b-4bb0-91b4-c76245191984",
   "metadata": {},
   "outputs": [],
   "source": [
    "student2 = Student(\"Егор Данилов\", 12, \"5B\", [5, 4, 4, 5])\n",
    "print(\"Имя:\", student2.name)\n",
    "print(\"Возраст:\", student2.age)\n",
    "print(\"Класс:\", student2.grade)\n",
    "print(\"Оценки:\", *student2.scores)\n",
    "print(\"Средний балл:\", student2.average_score())"
   ]
  },
  {
   "cell_type": "markdown",
   "id": "4d80d1da-7694-4dcd-be10-4bf90e2654b0",
   "metadata": {},
   "source": [
    "3. Напишите класс Recipe с двумя методами:\n",
    "\n",
    "print_ingredients(self) – выводит список продуктов, необходимых для приготовления блюда;\n",
    "cook(self) – сообщает название выбранного рецепта и уведомляет о готовности блюда.\n",
    "Пример использования:"
   ]
  },
  {
   "cell_type": "code",
   "execution_count": null,
   "id": "3435a319-c1d7-4c70-8748-5c8735c28af2",
   "metadata": {},
   "outputs": [],
   "source": [
    "# создаем рецепт спагетти болоньезе\n",
    "spaghetti = Recipe(\"Спагетти болоньезе\", [\"Спагетти\", \"Фарш\", \"Томатный соус\", \"Лук\", \"Чеснок\", \"Соль\"])\n",
    "\n",
    "# печатаем список продуктов для рецепта спагетти\n",
    "spaghetti.print_ingredients()\n",
    "\n",
    "# готовим спагетти\n",
    "spaghetti.cook()  \n",
    "\n",
    "# создаем рецепт для кекса\n",
    "cake = Recipe(\"Кекс\", [\"Мука\", \"Яйца\", \"Молоко\", \"Сахар\", \"Сливочное масло\", \"Соль\", \"Ванилин\"])\n",
    "\n",
    "# печатаем рецепт кекса\n",
    "cake.print_ingredients()\n",
    "\n",
    "# готовим кекс\n",
    "cake.cook()"
   ]
  },
  {
   "cell_type": "markdown",
   "id": "e18642e5-42b2-4920-98a3-75dbdd1da022",
   "metadata": {},
   "source": [
    "4. Создайте класс BankAccount, который имеет следующие свойства:\n",
    "\n",
    "balance – приватный атрибут для хранения текущего баланса счета;\n",
    "interest_rate –приватный атрибут для процентной ставки;\n",
    "transactions – приватный атрибут для списка всех операций, совершенных по счету.\n",
    "Класс BankAccount должен иметь следующие методы:\n",
    "\n",
    "deposit(amount) – добавляет сумму к балансу и регистрирует транзакцию;\n",
    "withdraw(amount) – вычитает сумму из баланса и записывает транзакцию;\n",
    "add_interest()– добавляет проценты к счету на основе interest_rate и записывает транзакцию;\n",
    "history()– печатает список всех операций по счету.\n",
    "Пример использования:"
   ]
  },
  {
   "cell_type": "code",
   "execution_count": null,
   "id": "77dac376-c333-4f00-a9eb-bac0b1735380",
   "metadata": {},
   "outputs": [],
   "source": [
    "# создаем объект счета с балансом 100000 и процентом по вкладу 0.05\n",
    "account = BankAccount(100000, 0.05)\n",
    "\n",
    "# вносим 15 тысяч на счет\n",
    "account.deposit(15000)\n",
    "\n",
    "# снимаем 7500 рублей\n",
    "account.withdraw(7500)\n",
    "\n",
    "# начисляем проценты по вкладу\n",
    "account.add_interest()\n",
    "\n",
    "# печатаем историю операций\n",
    "account.history()"
   ]
  },
  {
   "cell_type": "markdown",
   "id": "199893f9-03e9-4433-b030-d905310e29e6",
   "metadata": {},
   "source": [
    "5. Создайте класс Employee (сотрудник), который имеет следующие приватные свойства:\n",
    "\n",
    "name – имя сотрудника;\n",
    "age – возраст;\n",
    "salary – оклад;\n",
    "bonus – премия.\n",
    "Класс Employee должен иметь следующие методы:\n",
    "\n",
    "get_name()– возвращает имя сотрудника;\n",
    "get_age()– возвращает возраст;\n",
    "get_salary() – возвращает зарплату сотрудника;\n",
    "set_bonus(bonus) – устанавливает свойство bonus;\n",
    "get_bonus() – возвращает бонус для сотрудника;\n",
    "get_total_salary() – возвращает общую зарплату сотрудника (оклад + бонус).\n",
    "\n",
    "Пример использования:"
   ]
  },
  {
   "cell_type": "code",
   "execution_count": null,
   "id": "21413d37-37cf-4602-b12c-d4d5395f6034",
   "metadata": {},
   "outputs": [],
   "source": [
    "# создаем сотрудника с именем, возрастом и зарплатой\n",
    "employee = Employee(\"Марина Арефьева\", 30, 90000)\n",
    "\n",
    "# устанавливаем бонус для сотрудника\n",
    "employee.set_bonus(15000)\n",
    "\n",
    "# выводим имя, возраст, зарплату, бонус и общую зарплату сотрудника\n",
    "print(\"Имя:\", employee.get_name())\n",
    "print(\"Возраст:\", employee.get_age())\n",
    "print(\"Зарплата:\", employee.get_salary())\n",
    "print(\"Бонус:\", employee.get_bonus())\n",
    "print(\"Итого начислено:\", employee.get_total_salary())"
   ]
  },
  {
   "cell_type": "markdown",
   "id": "ecfcbb5b-4faf-4dc7-bf0f-9900eeaa0a0c",
   "metadata": {},
   "source": [
    "### Бонусное задание: \n",
    "Александру требуется проверить, возможно ли из представленных отрезков условной длины сформировать треугольник. \n",
    "Для этого он решил создать класс TriangleChecker, принимающий только положительные числа. \n",
    "С помощью метода is_triangle() возвращаются следующие значения (в зависимости от ситуации):\n",
    "\n",
    "– Ура, можно построить треугольник!;\n",
    "\n",
    "– С отрицательными числами ничего не выйдет!;\n",
    "\n",
    "– Нужно вводить только числа!;\n",
    "\n",
    "– Жаль, но из этого треугольник не сделать."
   ]
  },
  {
   "cell_type": "code",
   "execution_count": null,
   "id": "0551b3e6-2ea1-42ca-b8c9-256ffdc1a7d0",
   "metadata": {},
   "outputs": [],
   "source": []
  },
  {
   "cell_type": "code",
   "execution_count": null,
   "id": "cc420301-e6c3-492f-97d2-1db20e7dd5b2",
   "metadata": {},
   "outputs": [],
   "source": []
  },
  {
   "cell_type": "code",
   "execution_count": null,
   "id": "fb9fde17-29f9-4456-b176-a8e0c09969a1",
   "metadata": {},
   "outputs": [],
   "source": []
  }
 ],
 "metadata": {
  "kernelspec": {
   "display_name": "Python 3 (ipykernel)",
   "language": "python",
   "name": "python3"
  },
  "language_info": {
   "codemirror_mode": {
    "name": "ipython",
    "version": 3
   },
   "file_extension": ".py",
   "mimetype": "text/x-python",
   "name": "python",
   "nbconvert_exporter": "python",
   "pygments_lexer": "ipython3",
   "version": "3.12.1"
  }
 },
 "nbformat": 4,
 "nbformat_minor": 5
}
