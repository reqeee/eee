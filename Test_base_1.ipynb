{
 "cells": [
  {
   "cell_type": "code",
   "execution_count": 1,
   "id": "fba95168-96cf-4004-aa93-59254ac3e62b",
   "metadata": {},
   "outputs": [
    {
     "name": "stdout",
     "output_type": "stream",
     "text": [
      "Requirement already satisfied: pytest in c:\\users\\305\\appdata\\local\\programs\\python\\python312\\lib\\site-packages (8.3.3)\n",
      "Requirement already satisfied: ipytest in c:\\users\\305\\appdata\\local\\programs\\python\\python312\\lib\\site-packages (0.14.2)\n",
      "Requirement already satisfied: iniconfig in c:\\users\\305\\appdata\\local\\programs\\python\\python312\\lib\\site-packages (from pytest) (2.0.0)\n",
      "Requirement already satisfied: packaging in c:\\users\\305\\appdata\\local\\programs\\python\\python312\\lib\\site-packages (from pytest) (24.1)\n",
      "Requirement already satisfied: pluggy<2,>=1.5 in c:\\users\\305\\appdata\\local\\programs\\python\\python312\\lib\\site-packages (from pytest) (1.5.0)\n",
      "Requirement already satisfied: colorama in c:\\users\\305\\appdata\\local\\programs\\python\\python312\\lib\\site-packages (from pytest) (0.4.6)\n",
      "Requirement already satisfied: ipython in c:\\users\\305\\appdata\\local\\programs\\python\\python312\\lib\\site-packages (from ipytest) (8.27.0)\n",
      "Requirement already satisfied: decorator in c:\\users\\305\\appdata\\local\\programs\\python\\python312\\lib\\site-packages (from ipython->ipytest) (4.4.2)\n",
      "Requirement already satisfied: jedi>=0.16 in c:\\users\\305\\appdata\\local\\programs\\python\\python312\\lib\\site-packages (from ipython->ipytest) (0.19.1)\n",
      "Requirement already satisfied: matplotlib-inline in c:\\users\\305\\appdata\\local\\programs\\python\\python312\\lib\\site-packages (from ipython->ipytest) (0.1.7)\n",
      "Requirement already satisfied: prompt-toolkit<3.1.0,>=3.0.41 in c:\\users\\305\\appdata\\local\\programs\\python\\python312\\lib\\site-packages (from ipython->ipytest) (3.0.47)\n",
      "Requirement already satisfied: pygments>=2.4.0 in c:\\users\\305\\appdata\\local\\programs\\python\\python312\\lib\\site-packages (from ipython->ipytest) (2.18.0)\n",
      "Requirement already satisfied: stack-data in c:\\users\\305\\appdata\\local\\programs\\python\\python312\\lib\\site-packages (from ipython->ipytest) (0.6.3)\n",
      "Requirement already satisfied: traitlets>=5.13.0 in c:\\users\\305\\appdata\\local\\programs\\python\\python312\\lib\\site-packages (from ipython->ipytest) (5.14.3)\n",
      "Requirement already satisfied: parso<0.9.0,>=0.8.3 in c:\\users\\305\\appdata\\local\\programs\\python\\python312\\lib\\site-packages (from jedi>=0.16->ipython->ipytest) (0.8.4)\n",
      "Requirement already satisfied: wcwidth in c:\\users\\305\\appdata\\local\\programs\\python\\python312\\lib\\site-packages (from prompt-toolkit<3.1.0,>=3.0.41->ipython->ipytest) (0.2.13)\n",
      "Requirement already satisfied: executing>=1.2.0 in c:\\users\\305\\appdata\\local\\programs\\python\\python312\\lib\\site-packages (from stack-data->ipython->ipytest) (2.1.0)\n",
      "Requirement already satisfied: asttokens>=2.1.0 in c:\\users\\305\\appdata\\local\\programs\\python\\python312\\lib\\site-packages (from stack-data->ipython->ipytest) (2.4.1)\n",
      "Requirement already satisfied: pure-eval in c:\\users\\305\\appdata\\local\\programs\\python\\python312\\lib\\site-packages (from stack-data->ipython->ipytest) (0.2.3)\n",
      "Requirement already satisfied: six>=1.12.0 in c:\\users\\305\\appdata\\local\\programs\\python\\python312\\lib\\site-packages (from asttokens>=2.1.0->stack-data->ipython->ipytest) (1.16.0)\n"
     ]
    }
   ],
   "source": [
    "!pip install pytest ipytest"
   ]
  },
  {
   "cell_type": "markdown",
   "id": "b53b5285-fb74-424a-b8a5-ffe98b6350c3",
   "metadata": {},
   "source": [
    "pip install selenium\n",
    "\n",
    "pip install pytest\n",
    "\n",
    "Чтобы работать с браузером, помимо Selenium потребуется веб-драйвер: в нашем случае ChromeDriver – по сути это связующее звено в цепочке. Обратите внимание, что версия драйвера должна соответствовать версии браузера и вперед – к созданию проекта и написанию первого скрипта."
   ]
  },
  {
   "cell_type": "code",
   "execution_count": 1,
   "id": "7590bf4e-0394-423c-af16-1bef4df169f6",
   "metadata": {},
   "outputs": [],
   "source": [
    "import ipytest\n",
    "import pytest\n",
    "ipytest.autoconfig()"
   ]
  },
  {
   "cell_type": "code",
   "execution_count": 4,
   "id": "4f946b36-a2d1-49ea-b217-383ec35cfe76",
   "metadata": {},
   "outputs": [],
   "source": [
    "def delenie(a, b)-> int:\n",
    "    if b == 0:\n",
    "        return \"Деление на ноль невозможно\"\n",
    "    return a / b\n",
    "\n",
    "def test():\n",
    "    assert delenie(10, 5) == 2\n",
    "    assert delenie(10, -5) == -2\n",
    "    assert delenie(-10, 8) == -2\n",
    "    assert delenie(-10, -5) == 2\n",
    "def test2():\n",
    "    assert delenie(20, 0) == \"Деление на ноль невозможно\""
   ]
  },
  {
   "cell_type": "code",
   "execution_count": 5,
   "id": "517003ba-e1ac-4949-9f1e-a4286371e4e4",
   "metadata": {},
   "outputs": [
    {
     "name": "stdout",
     "output_type": "stream",
     "text": [
      "\u001b[1m======================================= test session starts =======================================\u001b[0m\n",
      "platform win32 -- Python 3.12.1, pytest-8.3.3, pluggy-1.5.0 -- C:\\Users\\305\\AppData\\Local\\Programs\\Python\\Python312\\python.exe\n",
      "cachedir: .pytest_cache\n",
      "rootdir: C:\\Users\\305\\Desktop\n",
      "plugins: anyio-4.4.0\n",
      "\u001b[1mcollecting ... \u001b[0mcollected 2 items\n",
      "\n",
      "t_0e7d90cc5e77410d9f1873e87a9e30b1.py::test \u001b[31mFAILED\u001b[0m\u001b[31m                                           [ 50%]\u001b[0m\n",
      "t_0e7d90cc5e77410d9f1873e87a9e30b1.py::test2 \u001b[32mPASSED\u001b[0m\u001b[31m                                          [100%]\u001b[0m\n",
      "\n",
      "============================================ FAILURES =============================================\n",
      "\u001b[31m\u001b[1m______________________________________________ test _______________________________________________\u001b[0m\n",
      "\n",
      "    \u001b[0m\u001b[94mdef\u001b[39;49;00m \u001b[92mtest\u001b[39;49;00m():\u001b[90m\u001b[39;49;00m\n",
      "        \u001b[94massert\u001b[39;49;00m delenie(\u001b[94m10\u001b[39;49;00m, \u001b[94m5\u001b[39;49;00m) == \u001b[94m2\u001b[39;49;00m\u001b[90m\u001b[39;49;00m\n",
      "        \u001b[94massert\u001b[39;49;00m delenie(\u001b[94m10\u001b[39;49;00m, -\u001b[94m5\u001b[39;49;00m) == -\u001b[94m2\u001b[39;49;00m\u001b[90m\u001b[39;49;00m\n",
      ">       \u001b[94massert\u001b[39;49;00m delenie(-\u001b[94m10\u001b[39;49;00m, \u001b[94m8\u001b[39;49;00m) == -\u001b[94m2\u001b[39;49;00m\u001b[90m\u001b[39;49;00m\n",
      "\u001b[1m\u001b[31mE       assert -1.25 == -2\u001b[0m\n",
      "\u001b[1m\u001b[31mE        +  where -1.25 = delenie(-10, 8)\u001b[0m\n",
      "\n",
      "\u001b[1m\u001b[31mC:\\Users\\305\\AppData\\Local\\Temp\\ipykernel_6332\\2588162837.py\u001b[0m:9: AssertionError\n",
      "\u001b[36m\u001b[1m===================================== short test summary info =====================================\u001b[0m\n",
      "\u001b[31mFAILED\u001b[0m t_0e7d90cc5e77410d9f1873e87a9e30b1.py::\u001b[1mtest\u001b[0m - assert -1.25 == -2\n",
      "\u001b[31m=================================== \u001b[31m\u001b[1m1 failed\u001b[0m, \u001b[32m1 passed\u001b[0m\u001b[31m in 0.79s\u001b[0m\u001b[31m ===================================\u001b[0m\n"
     ]
    },
    {
     "data": {
      "text/plain": [
       "<ExitCode.TESTS_FAILED: 1>"
      ]
     },
     "execution_count": 5,
     "metadata": {},
     "output_type": "execute_result"
    }
   ],
   "source": [
    "ipytest.run('-vv')"
   ]
  },
  {
   "cell_type": "code",
   "execution_count": 10,
   "id": "7552ef76-5a55-44c9-ba5a-73ee393e8596",
   "metadata": {},
   "outputs": [],
   "source": [
    "import string\n",
    "\n",
    "def proverka_na_palindrom(s):\n",
    "        s = s.replace(\" \", \"\").lower()\n",
    "        return s == s[::-1]\n",
    "def test_palindrome():\n",
    "    assert proverka_na_palindrom(\"Тонет енот\") ==True\n",
    "    assert proverka_na_palindrom(\"мадам\") ==True\n",
    "    assert proverka_na_palindrom(\"кот ток\") ==True        \n",
    "def test_not_palindrome():\n",
    "    assert proverka_na_palindrom(\"привет\") ==False\n",
    "    assert proverka_na_palindrom(\"как дела\") ==False\n",
    "    assert proverka_na_palindrom(\"собака\") ==False\n",
    "    assert proverka_na_palindrom(\"кабан\") ==False"
   ]
  },
  {
   "cell_type": "code",
   "execution_count": 11,
   "id": "6ca960ed-1fac-450e-aa0c-dd43b644dfe2",
   "metadata": {},
   "outputs": [
    {
     "name": "stdout",
     "output_type": "stream",
     "text": [
      "\u001b[1m======================================= test session starts =======================================\u001b[0m\n",
      "platform win32 -- Python 3.12.1, pytest-8.3.3, pluggy-1.5.0 -- C:\\Users\\305\\AppData\\Local\\Programs\\Python\\Python312\\python.exe\n",
      "cachedir: .pytest_cache\n",
      "rootdir: C:\\Users\\305\\Desktop\n",
      "plugins: anyio-4.4.0\n",
      "\u001b[1mcollecting ... \u001b[0mcollected 4 items\n",
      "\n",
      "t_0e7d90cc5e77410d9f1873e87a9e30b1.py::test \u001b[31mFAILED\u001b[0m\u001b[31m                                           [ 25%]\u001b[0m\n",
      "t_0e7d90cc5e77410d9f1873e87a9e30b1.py::test2 \u001b[32mPASSED\u001b[0m\u001b[31m                                          [ 50%]\u001b[0m\n",
      "t_0e7d90cc5e77410d9f1873e87a9e30b1.py::test_palindrome \u001b[32mPASSED\u001b[0m\u001b[31m                                [ 75%]\u001b[0m\n",
      "t_0e7d90cc5e77410d9f1873e87a9e30b1.py::test_not_palindrome \u001b[32mPASSED\u001b[0m\u001b[31m                            [100%]\u001b[0m\n",
      "\n",
      "============================================ FAILURES =============================================\n",
      "\u001b[31m\u001b[1m______________________________________________ test _______________________________________________\u001b[0m\n",
      "\n",
      "    \u001b[0m\u001b[94mdef\u001b[39;49;00m \u001b[92mtest\u001b[39;49;00m():\u001b[90m\u001b[39;49;00m\n",
      "        \u001b[94massert\u001b[39;49;00m delenie(\u001b[94m10\u001b[39;49;00m, \u001b[94m5\u001b[39;49;00m) == \u001b[94m2\u001b[39;49;00m\u001b[90m\u001b[39;49;00m\n",
      "        \u001b[94massert\u001b[39;49;00m delenie(\u001b[94m10\u001b[39;49;00m, -\u001b[94m5\u001b[39;49;00m) == -\u001b[94m2\u001b[39;49;00m\u001b[90m\u001b[39;49;00m\n",
      ">       \u001b[94massert\u001b[39;49;00m delenie(-\u001b[94m10\u001b[39;49;00m, \u001b[94m8\u001b[39;49;00m) == -\u001b[94m2\u001b[39;49;00m\u001b[90m\u001b[39;49;00m\n",
      "\u001b[1m\u001b[31mE       assert -1.25 == -2\u001b[0m\n",
      "\u001b[1m\u001b[31mE        +  where -1.25 = delenie(-10, 8)\u001b[0m\n",
      "\n",
      "\u001b[1m\u001b[31mC:\\Users\\305\\AppData\\Local\\Temp\\ipykernel_6332\\2588162837.py\u001b[0m:9: AssertionError\n",
      "\u001b[36m\u001b[1m===================================== short test summary info =====================================\u001b[0m\n",
      "\u001b[31mFAILED\u001b[0m t_0e7d90cc5e77410d9f1873e87a9e30b1.py::\u001b[1mtest\u001b[0m - assert -1.25 == -2\n",
      "\u001b[31m=================================== \u001b[31m\u001b[1m1 failed\u001b[0m, \u001b[32m3 passed\u001b[0m\u001b[31m in 0.10s\u001b[0m\u001b[31m ===================================\u001b[0m\n"
     ]
    },
    {
     "data": {
      "text/plain": [
       "<ExitCode.TESTS_FAILED: 1>"
      ]
     },
     "execution_count": 11,
     "metadata": {},
     "output_type": "execute_result"
    }
   ],
   "source": [
    "ipytest.run('-vv')"
   ]
  },
  {
   "cell_type": "code",
   "execution_count": 7,
   "id": "fd959185-6b7b-432d-a771-38df1b7547b5",
   "metadata": {},
   "outputs": [],
   "source": [
    "def factorial(n: int) -> int:\n",
    "    if n in [0, 1]:\n",
    "        return 1\n",
    "    return n * factorial(n - 1)\n",
    "\n",
    "\n",
    "def test_factorial() -> None:\n",
    "    expected = 120\n",
    "    \n",
    "    got = factorial(5)\n",
    "    \n",
    "    assert expected == got"
   ]
  },
  {
   "cell_type": "code",
   "execution_count": 8,
   "id": "7febff19-b476-4ef4-9fe2-f445cab93041",
   "metadata": {},
   "outputs": [],
   "source": [
    "@pytest.mark.parametrize(\n",
    "    (\"number\", \"expected\"),\n",
    "    [\n",
    "        (0, 1),\n",
    "        (1, 1),\n",
    "        (5, 120),\n",
    "    ],\n",
    ")\n",
    "def test_factorial(number: int, expected: int) -> None:\n",
    "    got = factorial(number)\n",
    "    \n",
    "    assert expected == got"
   ]
  },
  {
   "cell_type": "code",
   "execution_count": 9,
   "id": "301588d1-47ab-4a7d-894b-cf7f0b08e7d8",
   "metadata": {},
   "outputs": [],
   "source": [
    "@pytest.mark.parametrize(\n",
    "    (\"number\", \"expected\"),\n",
    "    [\n",
    "        pytest.param(0, 1, id=\"return one if number equal zero\"),\n",
    "        (1, 1),\n",
    "        (5, 120),\n",
    "        pytest.param(\n",
    "            100,\n",
    "            93326215443944152681699238856266700490715968264381621468592963895217599993229915608941463976156518286253697920827223758251185210916864000000000000000000000000,\n",
    "            marks=pytest.mark.skip(reason=\"Slow test\"),\n",
    "        ),\n",
    "    ],\n",
    ")\n",
    "def test_factorial(number: int, expected: int) -> None:\n",
    "    got = factorial(number)\n",
    "    \n",
    "    assert expected == got"
   ]
  },
  {
   "cell_type": "code",
   "execution_count": 10,
   "id": "0779ea84-1ad0-4d2a-bcad-a5c5b7fc1c1b",
   "metadata": {},
   "outputs": [
    {
     "name": "stdout",
     "output_type": "stream",
     "text": [
      "\u001b[1m======================================= test session starts =======================================\u001b[0m\n",
      "platform win32 -- Python 3.12.1, pytest-8.3.3, pluggy-1.5.0 -- C:\\Users\\305\\AppData\\Local\\Programs\\Python\\Python312\\python.exe\n",
      "cachedir: .pytest_cache\n",
      "rootdir: C:\\Users\\305\\Desktop\n",
      "plugins: anyio-4.4.0\n",
      "\u001b[1mcollecting ... \u001b[0mcollected 8 items\n",
      "\n",
      "t_7257d68937a3400f91aac6b4edcfd679.py::test \u001b[32mPASSED\u001b[0m\u001b[32m                                           [ 12%]\u001b[0m\n",
      "t_7257d68937a3400f91aac6b4edcfd679.py::test2 \u001b[32mPASSED\u001b[0m\u001b[32m                                          [ 25%]\u001b[0m\n",
      "t_7257d68937a3400f91aac6b4edcfd679.py::test_palindrome \u001b[32mPASSED\u001b[0m\u001b[32m                                [ 37%]\u001b[0m\n",
      "t_7257d68937a3400f91aac6b4edcfd679.py::test_not_palindrome \u001b[32mPASSED\u001b[0m\u001b[32m                            [ 50%]\u001b[0m\n",
      "t_7257d68937a3400f91aac6b4edcfd679.py::test_factorial[return one if number equal zero] \u001b[32mPASSED\u001b[0m\u001b[32m [ 62%]\u001b[0m\n",
      "t_7257d68937a3400f91aac6b4edcfd679.py::test_factorial[1-1] \u001b[32mPASSED\u001b[0m\u001b[32m                            [ 75%]\u001b[0m\n",
      "t_7257d68937a3400f91aac6b4edcfd679.py::test_factorial[5-120] \u001b[32mPASSED\u001b[0m\u001b[32m                          [ 87%]\u001b[0m\n",
      "t_7257d68937a3400f91aac6b4edcfd679.py::test_factorial[100-93326215443944152681699238856266700490715968264381621468592963895217599993229915608941463976156518286253697920827223758251185210916864000000000000000000000000] \u001b[33mSKIPPED\u001b[0m\u001b[32m [100%]\u001b[0m\n",
      "\n",
      "\u001b[32m================================== \u001b[32m\u001b[1m7 passed\u001b[0m, \u001b[33m1 skipped\u001b[0m\u001b[32m in 0.08s\u001b[0m\u001b[32m ===================================\u001b[0m\n"
     ]
    },
    {
     "data": {
      "text/plain": [
       "<ExitCode.OK: 0>"
      ]
     },
     "execution_count": 10,
     "metadata": {},
     "output_type": "execute_result"
    }
   ],
   "source": [
    "ipytest.run('-vv')"
   ]
  },
  {
   "cell_type": "markdown",
   "id": "0b787baf-1fda-4a90-9083-513e8a803051",
   "metadata": {},
   "source": [
    "# ЗАДАНИЯ"
   ]
  },
  {
   "cell_type": "markdown",
   "id": "1f6d9cb7-4657-42a6-aa1d-79f8479236dc",
   "metadata": {},
   "source": [
    "1. Создайте функцию, которая делит два числа и обрабатывает деление на ноль. Напишите тесты для проверки корректности обработки исключений."
   ]
  },
  {
   "cell_type": "markdown",
   "id": "19d76ed9-1be1-4f31-973a-1c3269a06c3a",
   "metadata": {},
   "source": [
    "2. Напишите функцию для проверки, является ли строка палиндромом, и протестируйте ее."
   ]
  },
  {
   "cell_type": "markdown",
   "id": "1e0b3d10-c319-4535-9b70-ada57009c45b",
   "metadata": {},
   "source": [
    "### Windows - удалить binary location!\n",
    "driver = webdriver.Chrome(options=options, executable_path=r'C:/Users/.../.../chromedriver.exe')"
   ]
  },
  {
   "cell_type": "code",
   "execution_count": null,
   "id": "ef4b3bb1-3b98-420e-ba4d-3c67f1a15193",
   "metadata": {
    "scrolled": true
   },
   "outputs": [],
   "source": [
    "from selenium import webdriver\n",
    "\n",
    "options = webdriver.ChromeOptions()\n",
    "\n",
    "\n",
    "driver = webdriver.Chrome(options=options)"
   ]
  },
  {
   "cell_type": "markdown",
   "id": "191e4d3f-d8d5-498f-85f4-a6bdc50d1cd9",
   "metadata": {},
   "source": [
    "Кейс:\n",
    "\n",
    "Зайти на страницу.\n",
    "Найти элемент по id.\n",
    "Вывести в консоль сообщение с результатом поиска."
   ]
  },
  {
   "cell_type": "code",
   "execution_count": null,
   "id": "816687da-d157-422a-85a5-5353ebd2e7e3",
   "metadata": {},
   "outputs": [],
   "source": [
    "from selenium import webdriver\n",
    "\n",
    "options = webdriver.ChromeOptions()\n",
    "options.add_experimental_option(\"excludeSwitches\", [\"enable-logging\"])\n",
    "options.binary_location = r\"C:\\Program Files\\Google\\Chrome\\Application\\chrome.exe\"\n",
    "driver = webdriver.Chrome(options=options)\n",
    "driver.get(\"https://www.saucedemo.com/\")\n",
    "input_username = driver.find_element(\"id\", \"user-name\")\n",
    "if input_username is None:\n",
    "   print(\"Элемент не найден\")\n",
    "else:\n",
    "   print(\"Элемент найден\")\n"
   ]
  },
  {
   "cell_type": "raw",
   "id": "052f4328-5d70-4983-8fc2-05e85af8c44f",
   "metadata": {},
   "source": [
    "Кейс аутентификации пользователя:\n",
    "Шаг 1: пользователь вводит корректный username и password.\n",
    "Шаг 2: нажимает кнопку ввода.\n",
    "Ожидаемый результат: пользователь попадает на главную страницу магазина. Проверка заголовка на соответствие “Products”."
   ]
  },
  {
   "cell_type": "code",
   "execution_count": 14,
   "id": "11dbd5f1-d4ab-42d6-bde0-bacb9fdce1d2",
   "metadata": {},
   "outputs": [],
   "source": [
    "import time\n",
    "\n",
    "from selenium import webdriver\n",
    "from selenium.webdriver.common.keys import Keys\n",
    "from selenium.webdriver.support.ui import WebDriverWait\n",
    "\n",
    "\n",
    "def first_test():\n",
    "    options = webdriver.ChromeOptions()\n",
    "    options.add_experimental_option(\"excludeSwitches\", [\"enable-logging\"])\n",
    "    options.binary_location = r\"C:\\Program Files\\Google\\Chrome\\Application\\chrome.exe\"\n",
    "    driver = webdriver.Chrome(options=options)\n",
    "    driver.get(\"https://www.saucedemo.com/\")\n",
    "\n",
    "    # Поиск элементов и присваивание к переменным.\n",
    "    input_username = driver.find_element(\"xpath\", \"//*[@id=\\\"user-name\\\"]\")\n",
    "    input_password = driver.find_element(\"xpath\", \"//*[@id=\\\"password\\\"]\")\n",
    "    login_button = driver.find_element(\"xpath\", \"//*[@id=\\\"login-button\\\"]\")\n",
    "\n",
    "    # Действия с формами\n",
    "    input_username.send_keys(\"standard_user\")\n",
    "    input_password.send_keys(\"secret_sauce\")\n",
    "    login_button.send_keys(Keys.RETURN)\n",
    "\n",
    "    # Поиск и проверка попадания на главную страницу\n",
    "    title_text = driver.find_element(\"xpath\", \"//*[@id=\\\"header_container\\\"]/div[2]/span\")\n",
    "    if title_text.text == \"Products\":\n",
    "        print(\"Мы попали на главную страницу\")\n",
    "    else:\n",
    "        print(\"Ошибка поиска элемента\")\n",
    "\n",
    "    time.sleep(5)\n",
    "\n",
    "def test_navigate_to_cart():\n",
    "    options = webdriver.ChromeOptions()\n",
    "    options.add_experimental_option(\"excludeSwitches\", [\"enable-logging\"])\n",
    "    options.binary_location = r\"C:\\Program Files\\Google\\Chrome\\Application\\chrome.exe\"\n",
    "    driver = webdriver.Chrome(options=options)\n",
    "    driver.get(\"https://www.saucedemo.com/\")\n",
    "\n",
    "    input_username = driver.find_element(\"xpath\", \"//*[@id=\\\"user-name\\\"]\")\n",
    "    input_password = driver.find_element(\"xpath\", \"//*[@id=\\\"password\\\"]\")\n",
    "    login_button = driver.find_element(\"xpath\", \"//*[@id=\\\"login-button\\\"]\")\n",
    "\n",
    "    # Действия с формами\n",
    "    input_username.send_keys(\"standard_user\")\n",
    "    input_password.send_keys(\"secret_sauce\")\n",
    "    login_button.send_keys(Keys.RETURN)\n",
    "    time.sleep(2)\n",
    "    \n",
    "    shopping_cart = driver.find_element(\"xpath\",\"//*[@id=\\\"shopping_cart_container\\\"]/a\")\n",
    "    shopping_cart.click()\n",
    "\n",
    "    e = WebDriverWait(driver, 10).until(EC.visibility_of_element_located((\"xpath\", \"//*[@data-test='title' and text()='Your Cart']\")))\n",
    "    \n",
    "    text=e.text\n",
    "    if \"Your Cart\" in text:\n",
    "        print(\"Тест выполнен- пользователь может перейти на страницу 'Корзина' после входа\")\n",
    "    else:\n",
    "        print(\"Ошибка\")\n",
    "    \n",
    "    \n",
    "    time.sleep(5)"
   ]
  },
  {
   "cell_type": "code",
   "execution_count": 15,
   "id": "ce301532-52ed-4028-b109-0d5de899802c",
   "metadata": {},
   "outputs": [
    {
     "name": "stdout",
     "output_type": "stream",
     "text": [
      "Тест выполнен- пользователь может перейти на страницу 'Корзина' после входа\n"
     ]
    }
   ],
   "source": [
    "test_navigate_to_cart()"
   ]
  },
  {
   "cell_type": "code",
   "execution_count": null,
   "id": "7a97e5f3-d8f8-4861-af5b-15fb5b587f91",
   "metadata": {},
   "outputs": [],
   "source": [
    "first_test()"
   ]
  },
  {
   "cell_type": "markdown",
   "id": "875fd084-e158-4dc4-9685-04d8e8366686",
   "metadata": {},
   "source": [
    "Кейс:\n",
    "\n",
    "Введем логин и пароль пользователя и зайдем на главную страницу.\n",
    "Найдем позицию с названием \"Sauce Labs Fleece Jacket\".\n",
    "Перейдем на страницу товара и нажмем кнопку добавления в корзину.\n",
    "Перейдем в корзину и проверим что там присутствует 1 позиция с названием \"Sauce Labs Fleece Jacket\"."
   ]
  },
  {
   "cell_type": "code",
   "execution_count": null,
   "id": "c991be9c-0ff1-4ff6-8697-b7cb32777caa",
   "metadata": {},
   "outputs": [],
   "source": [
    "import time\n",
    "\n",
    "from selenium import webdriver\n",
    "from selenium.webdriver.common.keys import Keys\n",
    "\n",
    "\n",
    "def first_test():\n",
    "    options = webdriver.ChromeOptions()\n",
    "    options.add_experimental_option(\"excludeSwitches\", [\"enable-logging\"])\n",
    "    options.binary_location = r\"C:\\Program Files\\Google\\Chrome\\Application\\chrome.exe\" \n",
    "    driver = webdriver.Chrome(options=options)\n",
    "    driver.get(\"https://www.saucedemo.com/\")\n",
    "\n",
    "    # Поиск элементов и присваивание к переменным.\n",
    "    input_username = driver.find_element(\"xpath\",\"//*[@id=\\\"user-name\\\"]\")\n",
    "    input_password = driver.find_element(\"xpath\",\"//*[@id=\\\"password\\\"]\")\n",
    "    login_button = driver.find_element(\"xpath\",\"//*[@id=\\\"login-button\\\"]\")\n",
    "\n",
    "    # Действия с формами\n",
    "    input_username.send_keys(\"standard_user\")\n",
    "    input_password.send_keys(\"secret_sauce\")\n",
    "    login_button.send_keys(Keys.RETURN)\n",
    "\n",
    "    # Поиск ссылки элемента позиции магазина и клик по ссылке\n",
    "    item_name = driver.find_element(\"xpath\",\"//*[@id=\\\"item_5_title_link\\\"]/div\")\n",
    "    item_name.click()\n",
    "\n",
    "    # Поиск кнопки добавления товара и клик по этой кнопке\n",
    "    item_add_button = driver.find_element(\"xpath\",\"//*[@id=\\\"add-to-cart\\\"]\")\n",
    "    item_add_button.click()\n",
    "\n",
    "    # Поиск кнопки коризины и клик по этой кнопке\n",
    "    shopping_cart = driver.find_element(\"xpath\",\"//*[@id=\\\"shopping_cart_container\\\"]/a\")\n",
    "    shopping_cart.click()\n",
    "\n",
    "    # Еще один поиск ссылки элемента позиции магазина\n",
    "    item_name = driver.find_element(\"xpath\",\"//*[@id=\\\"item_5_title_link\\\"]/div\")\n",
    "    if item_name.text == \"Sauce Labs Fleece Jacket\":\n",
    "        print(\"Товар присутствует в корзине\")\n",
    "    else:\n",
    "        print(\"Товар отсутствует\")\n",
    "\n",
    "    time.sleep(5)\n",
    "\n",
    "first_test()"
   ]
  },
  {
   "cell_type": "markdown",
   "id": "c1c1fdf0-d435-4322-8809-720722fc70b2",
   "metadata": {},
   "source": [
    "В предыдущем кейсе с большой вероятностью можно столкнуться с проблемой, когда при нажатии на позицию мы сразу кликаем на корзину. При медленном интернете или долгом ответе от сервера в корзину может ничего не добавиться. Для таких случаев предусмотрены ожидания.\n",
    "\n",
    "\n",
    "Selenium driver поддерживает два вида ожиданий: явное (explicit) и неявное (implicity). Для явных ожиданий есть специальные методы, которые помогут рационально использовать время выполнения теста: например, можно установить минимальное время ожидания и возвращать элемент, если он прогрузился раньше предполагаемого времени."
   ]
  },
  {
   "cell_type": "markdown",
   "id": "397693b0-1578-4680-87db-6a778f9c0915",
   "metadata": {},
   "source": [
    "element = WebDriverWait(driver, 10).until(\n",
    "    EC.element_to_be_clickable(\n",
    "        (By.XPATH, '//*[@id=\\\"page_wrapper\\\"]/footer/ul/li[2]/a')\n",
    "    )\n",
    ")"
   ]
  },
  {
   "cell_type": "markdown",
   "id": "21dd02e1-0941-48ae-8769-914059155dbb",
   "metadata": {},
   "source": [
    "Процесс ждет 10 секунд пока элемент станет доступным, чтобы по нему можно было кликнуть. Если элемент так и не прогрузился и недоступен для клика, генерируется исключение TimeoutException.\n",
    "\n",
    "Неявные ожидания в свою очередь устанавливаются один раз для драйвера, а не для каждого элемента. Включается неявное ожидание, когда Selenium не может найти элемент: он ждет установленное время и если не дождется, тоже возвращает TimeoutException. В отличии от явного ожидания, этот тип менее гибок и может оказать плохое влияние на общее время прогона тестов."
   ]
  },
  {
   "cell_type": "markdown",
   "id": "5585a97b-00a4-4409-94eb-ed6c7da5cbdf",
   "metadata": {},
   "source": [
    "driver.implicitly_wait(10)"
   ]
  },
  {
   "cell_type": "markdown",
   "id": "7a985c5e-f6cd-4721-8289-1a723e77a018",
   "metadata": {},
   "source": [
    "Чтобы pytest понял, что перед ним именно тестовая, а не обычная функция, сама тестовая функция должна начинаться с test_.\n",
    "\n",
    "Обновим наш тест, добавим необходимые ожидания для стабильности тестовых функций."
   ]
  },
  {
   "cell_type": "code",
   "execution_count": 13,
   "id": "c405cc7a-8565-4c1b-9821-9d16021972c4",
   "metadata": {},
   "outputs": [],
   "source": [
    "from selenium.webdriver.support import expected_conditions as EC\n",
    "from selenium.webdriver.common.by import By\n",
    "from selenium.webdriver.support.wait import WebDriverWait\n",
    "\n",
    "from selenium import webdriver\n",
    "from selenium.webdriver.common.keys import Keys\n",
    "\n",
    "\n",
    "# Функция ожидания элементов\n",
    "def wait_of_element_located(xpath, driver):\n",
    "    element = WebDriverWait(driver, 10).until(\n",
    "        EC.presence_of_element_located(\n",
    "            (By.XPATH, xpath)\n",
    "        )\n",
    "    )\n",
    "    return element\n",
    "\n",
    "\n",
    "def test_add_jacket_to_the_shopcart():\n",
    "    options = webdriver.ChromeOptions()\n",
    "    options.add_experimental_option(\"excludeSwitches\", [\"enable-logging\"])\n",
    "    options.binary_location = r\"C:\\Program Files\\Google\\Chrome\\Application\\chrome.exe\" \n",
    "    driver = webdriver.Chrome(options=options)\n",
    "    driver.get(\"https://www.saucedemo.com/\")\n",
    "\n",
    "    # Поиск и ожидание элементов и присваивание к переменным.\n",
    "    input_username = wait_of_element_located(xpath='//*[@id=\\\"user-name\\\"]', driver=driver)\n",
    "    input_password = wait_of_element_located(xpath='//*[@id=\\\"password\\\"]', driver=driver)\n",
    "    login_button = wait_of_element_located(xpath='//*[@id=\\\"login-button\\\"]', driver=driver)\n",
    "\n",
    "    # Действия с формами\n",
    "    input_username.send_keys(\"standard_user\")\n",
    "    input_password.send_keys(\"secret_sauce\")\n",
    "    login_button.send_keys(Keys.RETURN)\n",
    "\n",
    "    # Поиск и ождиание прогрузки ссылки элемента товара магазина и клик по ссылке\n",
    "    item_name = wait_of_element_located(xpath='//*[@id=\\\"item_5_title_link\\\"]/div', driver=driver)\n",
    "    item_name.click()\n",
    "\n",
    "    # Поиск и ожидание кнопки добавления товара и клик по этой кнопке\n",
    "    item_add_button = wait_of_element_located(xpath='//*[@id=\\\"add-to-cart\\\"]', driver=driver)\n",
    "    item_add_button.click()\n",
    "\n",
    "    # Ждем пока товар добавится в корзину, появится span(кол-во позиций в корзине) и кликаем по корзине чтобы перейти\n",
    "    wait_of_element_located(xpath='//*[@id=\\\"shopping_cart_container\\\"]/a/span', driver=driver).click()\n",
    "\n",
    "    # Еще один поиск ссылки элемента позиции магазина\n",
    "    item_name = wait_of_element_located(xpath='//*[@id=\\\"item_5_title_link\\\"]/div', driver=driver)\n",
    "\n",
    "    item_description = wait_of_element_located(\n",
    "        xpath='//*[@id=\\\"cart_contents_container\\\"]/div/div[1]/div[3]/div[2]/div[1]',\n",
    "        driver=driver\n",
    "    )\n",
    "\n",
    "    assert item_name.text == \"Sauce Labs Fleece Jacket\"\n",
    "    assert item_description.text == \"It's not every day that you come across a midweight quarter-zip fleece jacket capable of handling everything from a relaxing day outdoors to a busy day at the office.\"\n",
    "\n",
    "    driver.close()\n",
    "\n",
    "\n",
    "\n",
    "\n",
    "\n",
    "\n",
    "\n",
    "test_add_jacket_to_the_shopcart()\n"
   ]
  },
  {
   "cell_type": "code",
   "execution_count": null,
   "id": "dc92e503-2b05-4a63-b659-36609c1d30af",
   "metadata": {},
   "outputs": [],
   "source": [
    "ipytest.run('-vv')"
   ]
  },
  {
   "cell_type": "code",
   "execution_count": 12,
   "id": "868eada7-6788-4eea-961a-75ab671439ee",
   "metadata": {},
   "outputs": [
    {
     "name": "stdout",
     "output_type": "stream",
     "text": [
      "Тест прошел успешно: Сообщение об ошибке отображено корректно.\n"
     ]
    }
   ],
   "source": [
    "from selenium.webdriver.support import expected_conditions as EC\n",
    "from selenium.webdriver.common.by import By\n",
    "from selenium.webdriver.support.wait import WebDriverWait\n",
    "\n",
    "from selenium import webdriver\n",
    "from selenium.webdriver.common.keys import Keys\n",
    "\n",
    "\n",
    "# Функция ожидания элементов\n",
    "def wait_of_element_located(xpath, driver):\n",
    "    element = WebDriverWait(driver, 10).until(\n",
    "        EC.presence_of_element_located(\n",
    "            (By.XPATH, xpath)\n",
    "        )\n",
    "    )\n",
    "    return element\n",
    "\n",
    "# Настройка параметров для Chrome\n",
    "options = webdriver.ChromeOptions()\n",
    "options.add_experimental_option(\"excludeSwitches\", [\"enable-logging\"])\n",
    "options.binary_location = r\"C:\\Program Files\\Google\\Chrome\\Application\\chrome.exe\" \n",
    "driver = webdriver.Chrome(options=options)\n",
    "\n",
    "def test_failed_login():\n",
    "    try:\n",
    "        # Переход на страницу входа\n",
    "        driver.get(\"https://www.saucedemo.com/\")\n",
    "        \n",
    "        # Ввод неверных учетных данных\n",
    "        input_username = driver.find_element(\"xpath\", \"//*[@id=\\\"user-name\\\"]\")\n",
    "        input_password = driver.find_element(\"xpath\", \"//*[@id=\\\"password\\\"]\")\n",
    "        \n",
    "        input_username.send_keys(\"User\")\n",
    "        input_password.send_keys(\"pass\")\n",
    "        \n",
    "        # Нажатие на кнопку входа\n",
    "        login_button = driver.find_element(\"xpath\", \"//*[@id=\\\"login-button\\\"]\")\n",
    "        login_button.click()\n",
    "        \n",
    "        # Ожидание появления сообщения об ошибке\n",
    "        error_message = WebDriverWait(driver, 10).until(\n",
    "            EC.visibility_of_element_located((\"xpath\", \"//h3[@data-test='error']\"))\n",
    "        )\n",
    "        er_mes=\"Epic sadface: Username and password do not match any user in this service\"\n",
    "        # Проверка текста сообщения об ошибке\n",
    "        if er_mes in error_message.text:\n",
    "          print(\"Тест прошел успешно: Сообщение об ошибке отображено корректно.\")\n",
    "        else:\n",
    "          print(\"Тест не прошел: Сообщение об ошибке не соответствует ожидаемому.\")\n",
    "  # Закрываем браузер после завершения теста\n",
    "    except Exception as e:\n",
    "        print(f\"Произошла ошибка: {e}\")\n",
    "\n",
    "test_failed_login()"
   ]
  },
  {
   "cell_type": "markdown",
   "id": "f0a6fa64-e470-48eb-bcee-fa07b0f8a848",
   "metadata": {},
   "source": [
    "# ЗАДАНИЯ"
   ]
  },
  {
   "cell_type": "markdown",
   "id": "fce60af1-42bb-4607-9237-e407ec9e53e2",
   "metadata": {},
   "source": [
    "1. Проверьте, что при вводе неверных учетных данных отображается сообщение об ошибке.\n",
    "def test_failed_login()"
   ]
  },
  {
   "cell_type": "markdown",
   "id": "3ec545b9-83c2-4e72-b289-ff5eeac9d786",
   "metadata": {},
   "source": [
    "2. Проверьте, что пользователь может удалить товар из корзины.\n",
    "def test_remove_from_cart()"
   ]
  },
  {
   "cell_type": "markdown",
   "id": "bba56c1c-9c93-4f2a-b623-b9abe80dc1a8",
   "metadata": {},
   "source": [
    "3. Проверьте, что пользователь может перейти на страницу \"Корзина\" после входа.\n",
    "def test_navigate_to_cart()"
   ]
  },
  {
   "cell_type": "markdown",
   "id": "e9081b7c-5013-410d-bdd0-9ba19b7b95f8",
   "metadata": {},
   "source": [
    "4. Проверьте, что логотип отображается на странице входа.\n",
    "def test_logo_on_login_page()"
   ]
  },
  {
   "cell_type": "code",
   "execution_count": null,
   "id": "cfa0c0c4-d7e8-4ac4-a6d3-4021807a183a",
   "metadata": {},
   "outputs": [],
   "source": []
  }
 ],
 "metadata": {
  "kernelspec": {
   "display_name": "Python 3 (ipykernel)",
   "language": "python",
   "name": "python3"
  },
  "language_info": {
   "codemirror_mode": {
    "name": "ipython",
    "version": 3
   },
   "file_extension": ".py",
   "mimetype": "text/x-python",
   "name": "python",
   "nbconvert_exporter": "python",
   "pygments_lexer": "ipython3",
   "version": "3.12.1"
  }
 },
 "nbformat": 4,
 "nbformat_minor": 5
}
